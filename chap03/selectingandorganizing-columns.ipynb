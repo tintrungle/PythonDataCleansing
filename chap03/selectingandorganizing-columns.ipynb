{
 "cells": [
  {
   "cell_type": "code",
   "execution_count": 1,
   "metadata": {},
   "outputs": [],
   "source": [
    "import pandas as pd\n",
    "import numpy as np\n",
    "\n"
   ]
  },
  {
   "cell_type": "code",
   "execution_count": 2,
   "metadata": {},
   "outputs": [],
   "source": [
    "nls97 = pd.read_csv('data/nls97.csv')\n",
    "nls97.set_index('personid', inplace=True)\n",
    "nls97[nls97.select_dtypes(['object']).columns] = nls97.select_dtypes(['object']).transform(lambda x: x.astype('category'))\n"
   ]
  },
  {
   "cell_type": "code",
   "execution_count": 3,
   "metadata": {},
   "outputs": [
    {
     "data": {
      "text/plain": [
       "gender                   category\n",
       "birthmonth                  int64\n",
       "birthyear                   int64\n",
       "highestgradecompleted     float64\n",
       "maritalstatus            category\n",
       "                           ...   \n",
       "colenroct15              category\n",
       "colenrfeb16              category\n",
       "colenroct16              category\n",
       "colenrfeb17              category\n",
       "colenroct17              category\n",
       "Length: 88, dtype: object"
      ]
     },
     "execution_count": 3,
     "metadata": {},
     "output_type": "execute_result"
    }
   ],
   "source": [
    "nls97.dtypes"
   ]
  },
  {
   "cell_type": "code",
   "execution_count": 4,
   "metadata": {},
   "outputs": [
    {
     "data": {
      "text/plain": [
       "(8984, 88)"
      ]
     },
     "execution_count": 4,
     "metadata": {},
     "output_type": "execute_result"
    }
   ],
   "source": [
    "nls97.shape"
   ]
  },
  {
   "cell_type": "code",
   "execution_count": 5,
   "metadata": {},
   "outputs": [
    {
     "data": {
      "text/plain": [
       "pandas.core.series.Series"
      ]
     },
     "execution_count": 5,
     "metadata": {},
     "output_type": "execute_result"
    }
   ],
   "source": [
    "analysisdemo = nls97['gender']\n",
    "type(analysisdemo)"
   ]
  },
  {
   "cell_type": "code",
   "execution_count": 6,
   "metadata": {},
   "outputs": [
    {
     "data": {
      "text/plain": [
       "personid\n",
       "100061    Female\n",
       "100139      Male\n",
       "100284      Male\n",
       "100292      Male\n",
       "100583      Male\n",
       "           ...  \n",
       "999291    Female\n",
       "999406      Male\n",
       "999543    Female\n",
       "999698    Female\n",
       "999963    Female\n",
       "Name: gender, Length: 8984, dtype: category\n",
       "Categories (2, object): ['Female', 'Male']"
      ]
     },
     "execution_count": 6,
     "metadata": {},
     "output_type": "execute_result"
    }
   ],
   "source": [
    "analysisdemo"
   ]
  },
  {
   "cell_type": "code",
   "execution_count": 7,
   "metadata": {},
   "outputs": [
    {
     "data": {
      "text/plain": [
       "pandas.core.frame.DataFrame"
      ]
     },
     "execution_count": 7,
     "metadata": {},
     "output_type": "execute_result"
    }
   ],
   "source": [
    "analysisdemo = nls97[['gender']]\n",
    "type(analysisdemo)"
   ]
  },
  {
   "cell_type": "code",
   "execution_count": 8,
   "metadata": {},
   "outputs": [
    {
     "data": {
      "text/html": [
       "<div>\n",
       "<style scoped>\n",
       "    .dataframe tbody tr th:only-of-type {\n",
       "        vertical-align: middle;\n",
       "    }\n",
       "\n",
       "    .dataframe tbody tr th {\n",
       "        vertical-align: top;\n",
       "    }\n",
       "\n",
       "    .dataframe thead th {\n",
       "        text-align: right;\n",
       "    }\n",
       "</style>\n",
       "<table border=\"1\" class=\"dataframe\">\n",
       "  <thead>\n",
       "    <tr style=\"text-align: right;\">\n",
       "      <th></th>\n",
       "      <th>gender</th>\n",
       "    </tr>\n",
       "    <tr>\n",
       "      <th>personid</th>\n",
       "      <th></th>\n",
       "    </tr>\n",
       "  </thead>\n",
       "  <tbody>\n",
       "    <tr>\n",
       "      <th>100061</th>\n",
       "      <td>Female</td>\n",
       "    </tr>\n",
       "    <tr>\n",
       "      <th>100139</th>\n",
       "      <td>Male</td>\n",
       "    </tr>\n",
       "    <tr>\n",
       "      <th>100284</th>\n",
       "      <td>Male</td>\n",
       "    </tr>\n",
       "    <tr>\n",
       "      <th>100292</th>\n",
       "      <td>Male</td>\n",
       "    </tr>\n",
       "    <tr>\n",
       "      <th>100583</th>\n",
       "      <td>Male</td>\n",
       "    </tr>\n",
       "    <tr>\n",
       "      <th>...</th>\n",
       "      <td>...</td>\n",
       "    </tr>\n",
       "    <tr>\n",
       "      <th>999291</th>\n",
       "      <td>Female</td>\n",
       "    </tr>\n",
       "    <tr>\n",
       "      <th>999406</th>\n",
       "      <td>Male</td>\n",
       "    </tr>\n",
       "    <tr>\n",
       "      <th>999543</th>\n",
       "      <td>Female</td>\n",
       "    </tr>\n",
       "    <tr>\n",
       "      <th>999698</th>\n",
       "      <td>Female</td>\n",
       "    </tr>\n",
       "    <tr>\n",
       "      <th>999963</th>\n",
       "      <td>Female</td>\n",
       "    </tr>\n",
       "  </tbody>\n",
       "</table>\n",
       "<p>8984 rows × 1 columns</p>\n",
       "</div>"
      ],
      "text/plain": [
       "          gender\n",
       "personid        \n",
       "100061    Female\n",
       "100139      Male\n",
       "100284      Male\n",
       "100292      Male\n",
       "100583      Male\n",
       "...          ...\n",
       "999291    Female\n",
       "999406      Male\n",
       "999543    Female\n",
       "999698    Female\n",
       "999963    Female\n",
       "\n",
       "[8984 rows x 1 columns]"
      ]
     },
     "execution_count": 8,
     "metadata": {},
     "output_type": "execute_result"
    }
   ],
   "source": [
    "analysisdemo"
   ]
  },
  {
   "cell_type": "code",
   "execution_count": 9,
   "metadata": {},
   "outputs": [
    {
     "data": {
      "text/plain": [
       "pandas.core.frame.DataFrame"
      ]
     },
     "execution_count": 9,
     "metadata": {},
     "output_type": "execute_result"
    }
   ],
   "source": [
    "analysisdemo = nls97.loc[:, ['gender']]\n",
    "type(analysisdemo)\n"
   ]
  },
  {
   "cell_type": "code",
   "execution_count": 10,
   "metadata": {},
   "outputs": [
    {
     "data": {
      "text/plain": [
       "pandas.core.series.Series"
      ]
     },
     "execution_count": 10,
     "metadata": {},
     "output_type": "execute_result"
    }
   ],
   "source": [
    "analysisdemo = nls97.iloc[:,0]\n",
    "type(analysisdemo)\n"
   ]
  },
  {
   "cell_type": "code",
   "execution_count": 11,
   "metadata": {},
   "outputs": [
    {
     "data": {
      "text/plain": [
       "pandas.core.frame.DataFrame"
      ]
     },
     "execution_count": 11,
     "metadata": {},
     "output_type": "execute_result"
    }
   ],
   "source": [
    "analysisdemo = nls97.iloc[:, [0]]\n",
    "type(analysisdemo)\n"
   ]
  },
  {
   "cell_type": "code",
   "execution_count": 12,
   "metadata": {},
   "outputs": [
    {
     "data": {
      "text/plain": [
       "(8984, 3)"
      ]
     },
     "execution_count": 12,
     "metadata": {},
     "output_type": "execute_result"
    }
   ],
   "source": [
    "analysisdemo = nls97[['gender', 'maritalstatus', 'highestgradecompleted']]\n",
    "analysisdemo.shape\n"
   ]
  },
  {
   "cell_type": "code",
   "execution_count": 13,
   "metadata": {},
   "outputs": [
    {
     "data": {
      "text/html": [
       "<div>\n",
       "<style scoped>\n",
       "    .dataframe tbody tr th:only-of-type {\n",
       "        vertical-align: middle;\n",
       "    }\n",
       "\n",
       "    .dataframe tbody tr th {\n",
       "        vertical-align: top;\n",
       "    }\n",
       "\n",
       "    .dataframe thead th {\n",
       "        text-align: right;\n",
       "    }\n",
       "</style>\n",
       "<table border=\"1\" class=\"dataframe\">\n",
       "  <thead>\n",
       "    <tr style=\"text-align: right;\">\n",
       "      <th></th>\n",
       "      <th>gender</th>\n",
       "      <th>maritalstatus</th>\n",
       "      <th>highestgradecompleted</th>\n",
       "    </tr>\n",
       "    <tr>\n",
       "      <th>personid</th>\n",
       "      <th></th>\n",
       "      <th></th>\n",
       "      <th></th>\n",
       "    </tr>\n",
       "  </thead>\n",
       "  <tbody>\n",
       "    <tr>\n",
       "      <th>100061</th>\n",
       "      <td>Female</td>\n",
       "      <td>Married</td>\n",
       "      <td>13.0</td>\n",
       "    </tr>\n",
       "    <tr>\n",
       "      <th>100139</th>\n",
       "      <td>Male</td>\n",
       "      <td>Married</td>\n",
       "      <td>12.0</td>\n",
       "    </tr>\n",
       "    <tr>\n",
       "      <th>100284</th>\n",
       "      <td>Male</td>\n",
       "      <td>Never-married</td>\n",
       "      <td>7.0</td>\n",
       "    </tr>\n",
       "    <tr>\n",
       "      <th>100292</th>\n",
       "      <td>Male</td>\n",
       "      <td>NaN</td>\n",
       "      <td>NaN</td>\n",
       "    </tr>\n",
       "    <tr>\n",
       "      <th>100583</th>\n",
       "      <td>Male</td>\n",
       "      <td>Married</td>\n",
       "      <td>13.0</td>\n",
       "    </tr>\n",
       "  </tbody>\n",
       "</table>\n",
       "</div>"
      ],
      "text/plain": [
       "          gender  maritalstatus  highestgradecompleted\n",
       "personid                                              \n",
       "100061    Female        Married                   13.0\n",
       "100139      Male        Married                   12.0\n",
       "100284      Male  Never-married                    7.0\n",
       "100292      Male            NaN                    NaN\n",
       "100583      Male        Married                   13.0"
      ]
     },
     "execution_count": 13,
     "metadata": {},
     "output_type": "execute_result"
    }
   ],
   "source": [
    "analysisdemo.head()"
   ]
  },
  {
   "cell_type": "code",
   "execution_count": 14,
   "metadata": {},
   "outputs": [
    {
     "data": {
      "text/plain": [
       "(8984, 3)"
      ]
     },
     "execution_count": 14,
     "metadata": {},
     "output_type": "execute_result"
    }
   ],
   "source": [
    "analysisdemo = nls97.loc[:, ['gender', 'maritalstatus', 'highestgradecompleted']]\n",
    "analysisdemo.shape"
   ]
  },
  {
   "cell_type": "code",
   "execution_count": 15,
   "metadata": {},
   "outputs": [
    {
     "data": {
      "text/html": [
       "<div>\n",
       "<style scoped>\n",
       "    .dataframe tbody tr th:only-of-type {\n",
       "        vertical-align: middle;\n",
       "    }\n",
       "\n",
       "    .dataframe tbody tr th {\n",
       "        vertical-align: top;\n",
       "    }\n",
       "\n",
       "    .dataframe thead th {\n",
       "        text-align: right;\n",
       "    }\n",
       "</style>\n",
       "<table border=\"1\" class=\"dataframe\">\n",
       "  <thead>\n",
       "    <tr style=\"text-align: right;\">\n",
       "      <th></th>\n",
       "      <th>gender</th>\n",
       "      <th>maritalstatus</th>\n",
       "      <th>highestgradecompleted</th>\n",
       "    </tr>\n",
       "    <tr>\n",
       "      <th>personid</th>\n",
       "      <th></th>\n",
       "      <th></th>\n",
       "      <th></th>\n",
       "    </tr>\n",
       "  </thead>\n",
       "  <tbody>\n",
       "    <tr>\n",
       "      <th>100061</th>\n",
       "      <td>Female</td>\n",
       "      <td>Married</td>\n",
       "      <td>13.0</td>\n",
       "    </tr>\n",
       "    <tr>\n",
       "      <th>100139</th>\n",
       "      <td>Male</td>\n",
       "      <td>Married</td>\n",
       "      <td>12.0</td>\n",
       "    </tr>\n",
       "    <tr>\n",
       "      <th>100284</th>\n",
       "      <td>Male</td>\n",
       "      <td>Never-married</td>\n",
       "      <td>7.0</td>\n",
       "    </tr>\n",
       "    <tr>\n",
       "      <th>100292</th>\n",
       "      <td>Male</td>\n",
       "      <td>NaN</td>\n",
       "      <td>NaN</td>\n",
       "    </tr>\n",
       "    <tr>\n",
       "      <th>100583</th>\n",
       "      <td>Male</td>\n",
       "      <td>Married</td>\n",
       "      <td>13.0</td>\n",
       "    </tr>\n",
       "  </tbody>\n",
       "</table>\n",
       "</div>"
      ],
      "text/plain": [
       "          gender  maritalstatus  highestgradecompleted\n",
       "personid                                              \n",
       "100061    Female        Married                   13.0\n",
       "100139      Male        Married                   12.0\n",
       "100284      Male  Never-married                    7.0\n",
       "100292      Male            NaN                    NaN\n",
       "100583      Male        Married                   13.0"
      ]
     },
     "execution_count": 15,
     "metadata": {},
     "output_type": "execute_result"
    }
   ],
   "source": [
    "analysisdemo.head()"
   ]
  },
  {
   "cell_type": "code",
   "execution_count": 16,
   "metadata": {},
   "outputs": [
    {
     "name": "stdout",
     "output_type": "stream",
     "text": [
      "<class 'pandas.core.frame.DataFrame'>\n",
      "Index: 8984 entries, 100061 to 999963\n",
      "Data columns (total 7 columns):\n",
      " #   Column                 Non-Null Count  Dtype   \n",
      "---  ------                 --------------  -----   \n",
      " 0   gender                 8984 non-null   category\n",
      " 1   maritalstatus          6672 non-null   category\n",
      " 2   highestgradecompleted  6663 non-null   float64 \n",
      " 3   wageincome             5091 non-null   float64 \n",
      " 4   gpaoverall             6004 non-null   float64 \n",
      " 5   weeksworked17          6670 non-null   float64 \n",
      " 6   colenroct17            6734 non-null   category\n",
      "dtypes: category(3), float64(4)\n",
      "memory usage: 377.8 KB\n"
     ]
    }
   ],
   "source": [
    "keyvars = ['gender', 'maritalstatus', 'highestgradecompleted', 'wageincome', 'gpaoverall', 'weeksworked17', 'colenroct17']\n",
    "analysisdemo = nls97[keyvars]\n",
    "analysisdemo.info()\n"
   ]
  },
  {
   "cell_type": "code",
   "execution_count": 17,
   "metadata": {},
   "outputs": [
    {
     "name": "stdout",
     "output_type": "stream",
     "text": [
      "<class 'pandas.core.frame.DataFrame'>\n",
      "Index: 8984 entries, 100061 to 999963\n",
      "Data columns (total 18 columns):\n",
      " #   Column         Non-Null Count  Dtype  \n",
      "---  ------         --------------  -----  \n",
      " 0   weeksworked00  8603 non-null   float64\n",
      " 1   weeksworked01  8564 non-null   float64\n",
      " 2   weeksworked02  8556 non-null   float64\n",
      " 3   weeksworked03  8490 non-null   float64\n",
      " 4   weeksworked04  8458 non-null   float64\n",
      " 5   weeksworked05  8403 non-null   float64\n",
      " 6   weeksworked06  8340 non-null   float64\n",
      " 7   weeksworked07  8272 non-null   float64\n",
      " 8   weeksworked08  8186 non-null   float64\n",
      " 9   weeksworked09  8146 non-null   float64\n",
      " 10  weeksworked10  8054 non-null   float64\n",
      " 11  weeksworked11  7968 non-null   float64\n",
      " 12  weeksworked12  7747 non-null   float64\n",
      " 13  weeksworked13  7680 non-null   float64\n",
      " 14  weeksworked14  7612 non-null   float64\n",
      " 15  weeksworked15  7389 non-null   float64\n",
      " 16  weeksworked16  7068 non-null   float64\n",
      " 17  weeksworked17  6670 non-null   float64\n",
      "dtypes: float64(18)\n",
      "memory usage: 1.3 MB\n"
     ]
    }
   ],
   "source": [
    "analysiswork = nls97.filter(like='weeksworked')\n",
    "analysiswork.info()\n"
   ]
  },
  {
   "cell_type": "code",
   "execution_count": 18,
   "metadata": {},
   "outputs": [
    {
     "name": "stdout",
     "output_type": "stream",
     "text": [
      "<class 'pandas.core.frame.DataFrame'>\n",
      "Index: 8984 entries, 100061 to 999963\n",
      "Data columns (total 57 columns):\n",
      " #   Column                 Non-Null Count  Dtype   \n",
      "---  ------                 --------------  -----   \n",
      " 0   gender                 8984 non-null   category\n",
      " 1   maritalstatus          6672 non-null   category\n",
      " 2   weeklyhrscomputer      5792 non-null   category\n",
      " 3   weeklyhrstv            6711 non-null   category\n",
      " 4   highestdegree          8953 non-null   category\n",
      " 5   govprovidejobs         1833 non-null   category\n",
      " 6   govpricecontrols       1859 non-null   category\n",
      " 7   govhealthcare          1874 non-null   category\n",
      " 8   govelderliving         1872 non-null   category\n",
      " 9   govindhelp             1815 non-null   category\n",
      " 10  govunemp               1811 non-null   category\n",
      " 11  govincomediff          1775 non-null   category\n",
      " 12  govcollegefinance      1875 non-null   category\n",
      " 13  govdecenthousing       1847 non-null   category\n",
      " 14  govprotectenvironment  1860 non-null   category\n",
      " 15  colenrfeb97            1250 non-null   category\n",
      " 16  colenroct97            8501 non-null   category\n",
      " 17  colenrfeb98            8501 non-null   category\n",
      " 18  colenroct98            8888 non-null   category\n",
      " 19  colenrfeb99            8865 non-null   category\n",
      " 20  colenroct99            8851 non-null   category\n",
      " 21  colenrfeb00            8820 non-null   category\n",
      " 22  colenroct00            8805 non-null   category\n",
      " 23  colenrfeb01            8786 non-null   category\n",
      " 24  colenroct01            8758 non-null   category\n",
      " 25  colenrfeb02            8732 non-null   category\n",
      " 26  colenroct02            8698 non-null   category\n",
      " 27  colenrfeb03            8658 non-null   category\n",
      " 28  colenroct03            8622 non-null   category\n",
      " 29  colenrfeb04            8578 non-null   category\n",
      " 30  colenroct04            8546 non-null   category\n",
      " 31  colenrfeb05            8508 non-null   category\n",
      " 32  colenroct05            8471 non-null   category\n",
      " 33  colenrfeb06            8426 non-null   category\n",
      " 34  colenroct06            8407 non-null   category\n",
      " 35  colenrfeb07            8352 non-null   category\n",
      " 36  colenroct07            8331 non-null   category\n",
      " 37  colenrfeb08            8289 non-null   category\n",
      " 38  colenroct08            8280 non-null   category\n",
      " 39  colenrfeb09            8236 non-null   category\n",
      " 40  colenroct09            8193 non-null   category\n",
      " 41  colenrfeb10            8116 non-null   category\n",
      " 42  colenroct10            8091 non-null   category\n",
      " 43  colenrfeb11            8037 non-null   category\n",
      " 44  colenroct11            7972 non-null   category\n",
      " 45  colenrfeb12            7794 non-null   category\n",
      " 46  colenroct12            7754 non-null   category\n",
      " 47  colenrfeb13            7754 non-null   category\n",
      " 48  colenroct13            7754 non-null   category\n",
      " 49  colenrfeb14            7624 non-null   category\n",
      " 50  colenroct14            7469 non-null   category\n",
      " 51  colenrfeb15            7469 non-null   category\n",
      " 52  colenroct15            7469 non-null   category\n",
      " 53  colenrfeb16            7036 non-null   category\n",
      " 54  colenroct16            6733 non-null   category\n",
      " 55  colenrfeb17            6733 non-null   category\n",
      " 56  colenroct17            6734 non-null   category\n",
      "dtypes: category(57)\n",
      "memory usage: 580.8 KB\n"
     ]
    }
   ],
   "source": [
    "analysiscats = nls97.select_dtypes(include=['category'])\n",
    "analysiscats.info()\n"
   ]
  },
  {
   "cell_type": "code",
   "execution_count": 19,
   "metadata": {},
   "outputs": [],
   "source": [
    "demo = ['gender','birthmonth','birthyear']\n",
    "highschoolrecord = ['satverbal','satmath','gpaoverall',\n",
    " 'gpaenglish','gpamath','gpascience']\n",
    "govresp = ['govprovidejobs','govpricecontrols',\n",
    "  'govhealthcare','govelderliving','govindhelp',\n",
    "  'govunemp','govincomediff','govcollegefinance',\n",
    "  'govdecenthousing','govprotectenvironment']\n",
    "demoadult = ['highestgradecompleted','maritalstatus',\n",
    "  'childathome','childnotathome','wageincome',\n",
    "  'weeklyhrscomputer','weeklyhrstv','nightlyhrssleep',\n",
    "  'highestdegree']\n",
    "weeksworked = ['weeksworked00','weeksworked01',\n",
    "  'weeksworked02','weeksworked03','weeksworked04',\n",
    "  'weeksworked05','weeksworked06',  'weeksworked07',\n",
    "  'weeksworked08','weeksworked09','weeksworked10',\n",
    "  'weeksworked11','weeksworked12','weeksworked13',\n",
    "  'weeksworked14','weeksworked15','weeksworked16',\n",
    "  'weeksworked17']\n",
    "colenr = ['colenrfeb97','colenroct97','colenrfeb98',\n",
    "  'colenroct98','colenrfeb99',  'colenroct99',\n",
    "  'colenrfeb00','colenroct00','colenrfeb01',\n",
    "  'colenroct01','colenrfeb02','colenroct02',\n",
    "  'colenrfeb03','colenroct03','colenrfeb04',\n",
    "  'colenroct04','colenrfeb05','colenroct05',\n",
    "  'colenrfeb06','colenroct06','colenrfeb07',\n",
    "  'colenroct07','colenrfeb08','colenroct08',\n",
    "  'colenrfeb09','colenroct09','colenrfeb10',\n",
    "  'colenroct10','colenrfeb11','colenroct11',\n",
    "  'colenrfeb12','colenroct12','colenrfeb13',\n",
    "  'colenroct13',  'colenrfeb14','colenroct14',\n",
    "  'colenrfeb15','colenroct15','colenrfeb16',\n",
    "  'colenroct16','colenrfeb17','colenroct17']"
   ]
  },
  {
   "cell_type": "code",
   "execution_count": 20,
   "metadata": {},
   "outputs": [
    {
     "data": {
      "text/plain": [
       "highestgradecompleted     float64\n",
       "maritalstatus            category\n",
       "childathome               float64\n",
       "childnotathome            float64\n",
       "wageincome                float64\n",
       "                           ...   \n",
       "colenroct15              category\n",
       "colenrfeb16              category\n",
       "colenroct16              category\n",
       "colenrfeb17              category\n",
       "colenroct17              category\n",
       "Length: 88, dtype: object"
      ]
     },
     "execution_count": 20,
     "metadata": {},
     "output_type": "execute_result"
    }
   ],
   "source": [
    "nls97 = nls97[demoadult + demo + highschoolrecord + \\\n",
    "  govresp + weeksworked + colenr]\n",
    "nls97.dtypes"
   ]
  }
 ],
 "metadata": {
  "kernelspec": {
   "display_name": "base",
   "language": "python",
   "name": "python3"
  },
  "language_info": {
   "codemirror_mode": {
    "name": "ipython",
    "version": 3
   },
   "file_extension": ".py",
   "mimetype": "text/x-python",
   "name": "python",
   "nbconvert_exporter": "python",
   "pygments_lexer": "ipython3",
   "version": "3.12.2"
  }
 },
 "nbformat": 4,
 "nbformat_minor": 2
}
