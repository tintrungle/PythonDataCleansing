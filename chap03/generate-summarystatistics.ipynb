{
 "cells": [
  {
   "cell_type": "code",
   "execution_count": 2,
   "metadata": {},
   "outputs": [],
   "source": [
    "import pandas as pd\n",
    "import numpy as np\n",
    "import matplotlib.pyplot as plt\n",
    "\n",
    "covidtotals = pd.read_csv('data/covidtotals.csv',\n",
    "                          parse_dates=['lastdate'])\n",
    "covidtotals.set_index('iso_code', inplace=True)"
   ]
  },
  {
   "cell_type": "code",
   "execution_count": 9,
   "metadata": {},
   "outputs": [
    {
     "data": {
      "text/plain": [
       "iso_code\n",
       "AFG    231539.0\n",
       "ALB    334863.0\n",
       "DZA    272010.0\n",
       "ASM      8359.0\n",
       "AND     48015.0\n",
       "Name: total_cases, dtype: float64"
      ]
     },
     "execution_count": 9,
     "metadata": {},
     "output_type": "execute_result"
    }
   ],
   "source": [
    "covidtotals['total_cases'].head()"
   ]
  },
  {
   "cell_type": "code",
   "execution_count": 3,
   "metadata": {},
   "outputs": [
    {
     "data": {
      "text/plain": [
       "(231, 16)"
      ]
     },
     "execution_count": 3,
     "metadata": {},
     "output_type": "execute_result"
    }
   ],
   "source": [
    "covidtotals.shape"
   ]
  },
  {
   "cell_type": "code",
   "execution_count": 4,
   "metadata": {},
   "outputs": [
    {
     "data": {
      "text/html": [
       "<div>\n",
       "<style scoped>\n",
       "    .dataframe tbody tr th:only-of-type {\n",
       "        vertical-align: middle;\n",
       "    }\n",
       "\n",
       "    .dataframe tbody tr th {\n",
       "        vertical-align: top;\n",
       "    }\n",
       "\n",
       "    .dataframe thead th {\n",
       "        text-align: right;\n",
       "    }\n",
       "</style>\n",
       "<table border=\"1\" class=\"dataframe\">\n",
       "  <thead>\n",
       "    <tr style=\"text-align: right;\">\n",
       "      <th>iso_code</th>\n",
       "      <th>GHA</th>\n",
       "    </tr>\n",
       "  </thead>\n",
       "  <tbody>\n",
       "    <tr>\n",
       "      <th>lastdate</th>\n",
       "      <td>2023-12-03 00:00:00</td>\n",
       "    </tr>\n",
       "    <tr>\n",
       "      <th>location</th>\n",
       "      <td>Ghana</td>\n",
       "    </tr>\n",
       "    <tr>\n",
       "      <th>total_cases</th>\n",
       "      <td>171834.0</td>\n",
       "    </tr>\n",
       "    <tr>\n",
       "      <th>total_deaths</th>\n",
       "      <td>1462.0</td>\n",
       "    </tr>\n",
       "    <tr>\n",
       "      <th>total_cases_pm</th>\n",
       "      <td>5133.07</td>\n",
       "    </tr>\n",
       "    <tr>\n",
       "      <th>total_deaths_pm</th>\n",
       "      <td>43.673</td>\n",
       "    </tr>\n",
       "    <tr>\n",
       "      <th>population</th>\n",
       "      <td>33475870</td>\n",
       "    </tr>\n",
       "    <tr>\n",
       "      <th>pop_density</th>\n",
       "      <td>126.719</td>\n",
       "    </tr>\n",
       "    <tr>\n",
       "      <th>median_age</th>\n",
       "      <td>21.1</td>\n",
       "    </tr>\n",
       "    <tr>\n",
       "      <th>gdp_per_capita</th>\n",
       "      <td>4227.63</td>\n",
       "    </tr>\n",
       "    <tr>\n",
       "      <th>hosp_beds</th>\n",
       "      <td>0.9</td>\n",
       "    </tr>\n",
       "    <tr>\n",
       "      <th>vac_per_hund</th>\n",
       "      <td>NaN</td>\n",
       "    </tr>\n",
       "    <tr>\n",
       "      <th>aged_65_older</th>\n",
       "      <td>3.385</td>\n",
       "    </tr>\n",
       "    <tr>\n",
       "      <th>life_expectancy</th>\n",
       "      <td>64.07</td>\n",
       "    </tr>\n",
       "    <tr>\n",
       "      <th>hum_dev_ind</th>\n",
       "      <td>0.611</td>\n",
       "    </tr>\n",
       "    <tr>\n",
       "      <th>region</th>\n",
       "      <td>West Africa</td>\n",
       "    </tr>\n",
       "  </tbody>\n",
       "</table>\n",
       "</div>"
      ],
      "text/plain": [
       "iso_code                         GHA\n",
       "lastdate         2023-12-03 00:00:00\n",
       "location                       Ghana\n",
       "total_cases                 171834.0\n",
       "total_deaths                  1462.0\n",
       "total_cases_pm               5133.07\n",
       "total_deaths_pm               43.673\n",
       "population                  33475870\n",
       "pop_density                  126.719\n",
       "median_age                      21.1\n",
       "gdp_per_capita               4227.63\n",
       "hosp_beds                        0.9\n",
       "vac_per_hund                     NaN\n",
       "aged_65_older                  3.385\n",
       "life_expectancy                64.07\n",
       "hum_dev_ind                    0.611\n",
       "region                   West Africa"
      ]
     },
     "execution_count": 4,
     "metadata": {},
     "output_type": "execute_result"
    }
   ],
   "source": [
    "covidtotals.sample(1, random_state=1).T"
   ]
  },
  {
   "cell_type": "code",
   "execution_count": 5,
   "metadata": {},
   "outputs": [
    {
     "data": {
      "text/plain": [
       "lastdate           datetime64[ns]\n",
       "location                   object\n",
       "total_cases               float64\n",
       "total_deaths              float64\n",
       "total_cases_pm            float64\n",
       "total_deaths_pm           float64\n",
       "population                  int64\n",
       "pop_density               float64\n",
       "median_age                float64\n",
       "gdp_per_capita            float64\n",
       "hosp_beds                 float64\n",
       "vac_per_hund              float64\n",
       "aged_65_older             float64\n",
       "life_expectancy           float64\n",
       "hum_dev_ind               float64\n",
       "region                     object\n",
       "dtype: object"
      ]
     },
     "execution_count": 5,
     "metadata": {},
     "output_type": "execute_result"
    }
   ],
   "source": [
    "covidtotals.dtypes"
   ]
  },
  {
   "cell_type": "code",
   "execution_count": 6,
   "metadata": {},
   "outputs": [
    {
     "data": {
      "text/html": [
       "<div>\n",
       "<style scoped>\n",
       "    .dataframe tbody tr th:only-of-type {\n",
       "        vertical-align: middle;\n",
       "    }\n",
       "\n",
       "    .dataframe tbody tr th {\n",
       "        vertical-align: top;\n",
       "    }\n",
       "\n",
       "    .dataframe thead th {\n",
       "        text-align: right;\n",
       "    }\n",
       "</style>\n",
       "<table border=\"1\" class=\"dataframe\">\n",
       "  <thead>\n",
       "    <tr style=\"text-align: right;\">\n",
       "      <th></th>\n",
       "      <th>total_cases</th>\n",
       "      <th>total_deaths</th>\n",
       "      <th>total_cases_pm</th>\n",
       "      <th>total_deaths_pm</th>\n",
       "    </tr>\n",
       "  </thead>\n",
       "  <tbody>\n",
       "    <tr>\n",
       "      <th>count</th>\n",
       "      <td>2.310000e+02</td>\n",
       "      <td>2.310000e+02</td>\n",
       "      <td>231.000000</td>\n",
       "      <td>231.000000</td>\n",
       "    </tr>\n",
       "    <tr>\n",
       "      <th>mean</th>\n",
       "      <td>3.351599e+06</td>\n",
       "      <td>3.021420e+04</td>\n",
       "      <td>206177.794623</td>\n",
       "      <td>1261.778390</td>\n",
       "    </tr>\n",
       "    <tr>\n",
       "      <th>std</th>\n",
       "      <td>1.148321e+07</td>\n",
       "      <td>1.047789e+05</td>\n",
       "      <td>203858.096252</td>\n",
       "      <td>1314.981529</td>\n",
       "    </tr>\n",
       "    <tr>\n",
       "      <th>min</th>\n",
       "      <td>4.000000e+00</td>\n",
       "      <td>0.000000e+00</td>\n",
       "      <td>354.487000</td>\n",
       "      <td>0.000000</td>\n",
       "    </tr>\n",
       "    <tr>\n",
       "      <th>25%</th>\n",
       "      <td>2.567150e+04</td>\n",
       "      <td>1.775000e+02</td>\n",
       "      <td>21821.863000</td>\n",
       "      <td>141.177000</td>\n",
       "    </tr>\n",
       "    <tr>\n",
       "      <th>50%</th>\n",
       "      <td>1.914960e+05</td>\n",
       "      <td>1.937000e+03</td>\n",
       "      <td>133946.251000</td>\n",
       "      <td>827.046000</td>\n",
       "    </tr>\n",
       "    <tr>\n",
       "      <th>75%</th>\n",
       "      <td>1.294286e+06</td>\n",
       "      <td>1.415000e+04</td>\n",
       "      <td>345689.831000</td>\n",
       "      <td>1997.513000</td>\n",
       "    </tr>\n",
       "    <tr>\n",
       "      <th>max</th>\n",
       "      <td>1.034368e+08</td>\n",
       "      <td>1.127152e+06</td>\n",
       "      <td>763475.441000</td>\n",
       "      <td>6507.656000</td>\n",
       "    </tr>\n",
       "  </tbody>\n",
       "</table>\n",
       "</div>"
      ],
      "text/plain": [
       "        total_cases  total_deaths  total_cases_pm  total_deaths_pm\n",
       "count  2.310000e+02  2.310000e+02      231.000000       231.000000\n",
       "mean   3.351599e+06  3.021420e+04   206177.794623      1261.778390\n",
       "std    1.148321e+07  1.047789e+05   203858.096252      1314.981529\n",
       "min    4.000000e+00  0.000000e+00      354.487000         0.000000\n",
       "25%    2.567150e+04  1.775000e+02    21821.863000       141.177000\n",
       "50%    1.914960e+05  1.937000e+03   133946.251000       827.046000\n",
       "75%    1.294286e+06  1.415000e+04   345689.831000      1997.513000\n",
       "max    1.034368e+08  1.127152e+06   763475.441000      6507.656000"
      ]
     },
     "execution_count": 6,
     "metadata": {},
     "output_type": "execute_result"
    }
   ],
   "source": [
    "totvars = ['total_cases',\n",
    "    'total_deaths','total_cases_pm',\n",
    "    'total_deaths_pm']\n",
    "\n",
    "covidtotals[totvars].describe()\n",
    "\n"
   ]
  },
  {
   "cell_type": "code",
   "execution_count": 7,
   "metadata": {},
   "outputs": [
    {
     "data": {
      "text/html": [
       "<div>\n",
       "<style scoped>\n",
       "    .dataframe tbody tr th:only-of-type {\n",
       "        vertical-align: middle;\n",
       "    }\n",
       "\n",
       "    .dataframe tbody tr th {\n",
       "        vertical-align: top;\n",
       "    }\n",
       "\n",
       "    .dataframe thead th {\n",
       "        text-align: right;\n",
       "    }\n",
       "</style>\n",
       "<table border=\"1\" class=\"dataframe\">\n",
       "  <thead>\n",
       "    <tr style=\"text-align: right;\">\n",
       "      <th></th>\n",
       "      <th>total_cases</th>\n",
       "      <th>total_deaths</th>\n",
       "      <th>total_cases_pm</th>\n",
       "      <th>total_deaths_pm</th>\n",
       "    </tr>\n",
       "  </thead>\n",
       "  <tbody>\n",
       "    <tr>\n",
       "      <th>0.0</th>\n",
       "      <td>4.0</td>\n",
       "      <td>0.0</td>\n",
       "      <td>354.487</td>\n",
       "      <td>0.000</td>\n",
       "    </tr>\n",
       "    <tr>\n",
       "      <th>0.1</th>\n",
       "      <td>8359.0</td>\n",
       "      <td>31.0</td>\n",
       "      <td>3138.575</td>\n",
       "      <td>32.885</td>\n",
       "    </tr>\n",
       "    <tr>\n",
       "      <th>0.2</th>\n",
       "      <td>17181.0</td>\n",
       "      <td>126.0</td>\n",
       "      <td>10885.737</td>\n",
       "      <td>105.298</td>\n",
       "    </tr>\n",
       "    <tr>\n",
       "      <th>0.3</th>\n",
       "      <td>38008.0</td>\n",
       "      <td>294.0</td>\n",
       "      <td>35834.604</td>\n",
       "      <td>210.509</td>\n",
       "    </tr>\n",
       "    <tr>\n",
       "      <th>0.4</th>\n",
       "      <td>74129.0</td>\n",
       "      <td>844.0</td>\n",
       "      <td>86126.235</td>\n",
       "      <td>498.789</td>\n",
       "    </tr>\n",
       "    <tr>\n",
       "      <th>0.5</th>\n",
       "      <td>191496.0</td>\n",
       "      <td>1937.0</td>\n",
       "      <td>133946.251</td>\n",
       "      <td>827.046</td>\n",
       "    </tr>\n",
       "    <tr>\n",
       "      <th>0.6</th>\n",
       "      <td>472755.0</td>\n",
       "      <td>4384.0</td>\n",
       "      <td>220429.369</td>\n",
       "      <td>1251.299</td>\n",
       "    </tr>\n",
       "    <tr>\n",
       "      <th>0.7</th>\n",
       "      <td>1041111.0</td>\n",
       "      <td>9646.0</td>\n",
       "      <td>293737.443</td>\n",
       "      <td>1697.571</td>\n",
       "    </tr>\n",
       "    <tr>\n",
       "      <th>0.8</th>\n",
       "      <td>1877065.0</td>\n",
       "      <td>21218.0</td>\n",
       "      <td>416608.106</td>\n",
       "      <td>2271.676</td>\n",
       "    </tr>\n",
       "    <tr>\n",
       "      <th>0.9</th>\n",
       "      <td>5641992.0</td>\n",
       "      <td>62288.0</td>\n",
       "      <td>512388.401</td>\n",
       "      <td>3155.939</td>\n",
       "    </tr>\n",
       "    <tr>\n",
       "      <th>1.0</th>\n",
       "      <td>103436829.0</td>\n",
       "      <td>1127152.0</td>\n",
       "      <td>763475.441</td>\n",
       "      <td>6507.656</td>\n",
       "    </tr>\n",
       "  </tbody>\n",
       "</table>\n",
       "</div>"
      ],
      "text/plain": [
       "     total_cases  total_deaths  total_cases_pm  total_deaths_pm\n",
       "0.0          4.0           0.0         354.487            0.000\n",
       "0.1       8359.0          31.0        3138.575           32.885\n",
       "0.2      17181.0         126.0       10885.737          105.298\n",
       "0.3      38008.0         294.0       35834.604          210.509\n",
       "0.4      74129.0         844.0       86126.235          498.789\n",
       "0.5     191496.0        1937.0      133946.251          827.046\n",
       "0.6     472755.0        4384.0      220429.369         1251.299\n",
       "0.7    1041111.0        9646.0      293737.443         1697.571\n",
       "0.8    1877065.0       21218.0      416608.106         2271.676\n",
       "0.9    5641992.0       62288.0      512388.401         3155.939\n",
       "1.0  103436829.0     1127152.0      763475.441         6507.656"
      ]
     },
     "execution_count": 7,
     "metadata": {},
     "output_type": "execute_result"
    }
   ],
   "source": [
    "covidtotals[totvars].quantile(np.arange(0.0, 1.1, 0.1))"
   ]
  },
  {
   "cell_type": "code",
   "execution_count": 8,
   "metadata": {},
   "outputs": [
    {
     "data": {
      "image/png": "[encoded data removed]",
      "text/plain": [
       "<Figure size 640x480 with 1 Axes>"
      ]
     },
     "metadata": {},
     "output_type": "display_data"
    }
   ],
   "source": [
    "plt.hist(covidtotals['total_cases']/1000, bins=12)\n",
    "plt.title('Total COVID-19 Cases (in thousands)')\n",
    "plt.xlabel('Cases')\n",
    "plt.ylabel('Number of Countries')\n",
    "plt.show()\n"
   ]
  }
 ],
 "metadata": {
  "kernelspec": {
   "display_name": "base",
   "language": "python",
   "name": "python3"
  },
  "language_info": {
   "codemirror_mode": {
    "name": "ipython",
    "version": 3
   },
   "file_extension": ".py",
   "mimetype": "text/x-python",
   "name": "python",
   "nbconvert_exporter": "python",
   "pygments_lexer": "ipython3",
   "version": "3.12.2"
  }
 },
 "nbformat": 4,
 "nbformat_minor": 2
}
