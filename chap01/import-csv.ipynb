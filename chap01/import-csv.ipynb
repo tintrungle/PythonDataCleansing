{
 "cells": [
  {
   "cell_type": "markdown",
   "id": "81c0174a",
   "metadata": {},
   "source": [
    "1. read CSV file\n",
    "2. parse datetime values with columns\n",
    "3. find missing data (isnull)\n",
    "4. drop missing data (isnull or n/a)\n",
    "5. (optional) fix warning: FutureWarning: Support for nested sequences for 'parse_dates' in pd.read_csv is deprecated. Combine the desired columns with pd.to_datetime after parsing instead."
   ]
  },
  {
   "cell_type": "code",
   "execution_count": 14,
   "id": "3183b13f",
   "metadata": {},
   "outputs": [],
   "source": [
    "import pandas as pd\n",
    "pd.options.display.float_format = '{:,.2f}'.format\n",
    "pd.set_option('display.width', 100)\n",
    "pd.set_option('display.max_columns', 9)\n"
   ]
  },
  {
   "cell_type": "code",
   "execution_count": 2,
   "id": "cc268ef3",
   "metadata": {},
   "outputs": [
    {
     "name": "stderr",
     "output_type": "stream",
     "text": [
      "/tmp/ipykernel_413/2389750749.py:1: FutureWarning: Support for nested sequences for 'parse_dates' in pd.read_csv is deprecated. Combine the desired columns with pd.to_datetime after parsing instead.\n",
      "  landtemps = pd.read_csv('data/landtempssample.csv',\n",
      "/tmp/ipykernel_413/2389750749.py:1: UserWarning: Could not infer format, so each element will be parsed individually, falling back to `dateutil`. To ensure parsing is consistent and as-expected, please specify a format.\n",
      "  landtemps = pd.read_csv('data/landtempssample.csv',\n"
     ]
    },
    {
     "data": {
      "text/plain": [
       "pandas.core.frame.DataFrame"
      ]
     },
     "execution_count": 2,
     "metadata": {},
     "output_type": "execute_result"
    }
   ],
   "source": [
    "landtemps = pd.read_csv('data/landtempssample.csv',\n",
    "    names=['stationid','year','month','avgtemp','latitude',\n",
    "    'longitude','elevation','station','countryid','country'],\n",
    "    skiprows=1,\n",
    "    parse_dates=[['month','year']],\n",
    "    low_memory=False)\n",
    "\n",
    "type(landtemps)"
   ]
  },
  {
   "cell_type": "code",
   "execution_count": 15,
   "id": "da7e7972",
   "metadata": {},
   "outputs": [
    {
     "data": {
      "text/html": [
       "<div>\n",
       "<style scoped>\n",
       "    .dataframe tbody tr th:only-of-type {\n",
       "        vertical-align: middle;\n",
       "    }\n",
       "\n",
       "    .dataframe tbody tr th {\n",
       "        vertical-align: top;\n",
       "    }\n",
       "\n",
       "    .dataframe thead th {\n",
       "        text-align: right;\n",
       "    }\n",
       "</style>\n",
       "<table border=\"1\" class=\"dataframe\">\n",
       "  <thead>\n",
       "    <tr style=\"text-align: right;\">\n",
       "      <th></th>\n",
       "      <th>measuredate</th>\n",
       "      <th>stationid</th>\n",
       "      <th>avgtemp</th>\n",
       "      <th>latitude</th>\n",
       "      <th>longitude</th>\n",
       "      <th>elevation</th>\n",
       "      <th>station</th>\n",
       "      <th>countryid</th>\n",
       "      <th>country</th>\n",
       "    </tr>\n",
       "  </thead>\n",
       "  <tbody>\n",
       "    <tr>\n",
       "      <th>0</th>\n",
       "      <td>2000-04-01</td>\n",
       "      <td>USS0010K01S</td>\n",
       "      <td>5.27</td>\n",
       "      <td>39.90</td>\n",
       "      <td>-110.75</td>\n",
       "      <td>2,773.70</td>\n",
       "      <td>INDIAN_CANYON</td>\n",
       "      <td>US</td>\n",
       "      <td>United States</td>\n",
       "    </tr>\n",
       "    <tr>\n",
       "      <th>1</th>\n",
       "      <td>1940-05-01</td>\n",
       "      <td>CI000085406</td>\n",
       "      <td>18.04</td>\n",
       "      <td>-18.35</td>\n",
       "      <td>-70.33</td>\n",
       "      <td>58.00</td>\n",
       "      <td>ARICA</td>\n",
       "      <td>CI</td>\n",
       "      <td>Chile</td>\n",
       "    </tr>\n",
       "    <tr>\n",
       "      <th>2</th>\n",
       "      <td>2013-12-01</td>\n",
       "      <td>USC00036376</td>\n",
       "      <td>6.22</td>\n",
       "      <td>34.37</td>\n",
       "      <td>-91.12</td>\n",
       "      <td>61.00</td>\n",
       "      <td>SAINT_CHARLES</td>\n",
       "      <td>US</td>\n",
       "      <td>United States</td>\n",
       "    </tr>\n",
       "    <tr>\n",
       "      <th>3</th>\n",
       "      <td>1963-02-01</td>\n",
       "      <td>ASN00024002</td>\n",
       "      <td>22.93</td>\n",
       "      <td>-34.28</td>\n",
       "      <td>140.60</td>\n",
       "      <td>65.50</td>\n",
       "      <td>BERRI_IRRIGATION</td>\n",
       "      <td>AS</td>\n",
       "      <td>Australia</td>\n",
       "    </tr>\n",
       "    <tr>\n",
       "      <th>5</th>\n",
       "      <td>1991-04-01</td>\n",
       "      <td>USW00024151</td>\n",
       "      <td>5.59</td>\n",
       "      <td>42.15</td>\n",
       "      <td>-112.29</td>\n",
       "      <td>1,362.50</td>\n",
       "      <td>MALAD_CITY</td>\n",
       "      <td>US</td>\n",
       "      <td>United States</td>\n",
       "    </tr>\n",
       "    <tr>\n",
       "      <th>6</th>\n",
       "      <td>1993-12-01</td>\n",
       "      <td>RSM00022641</td>\n",
       "      <td>-10.17</td>\n",
       "      <td>63.90</td>\n",
       "      <td>38.12</td>\n",
       "      <td>13.00</td>\n",
       "      <td>ONEGA</td>\n",
       "      <td>RS</td>\n",
       "      <td>Russia</td>\n",
       "    </tr>\n",
       "    <tr>\n",
       "      <th>7</th>\n",
       "      <td>1943-01-01</td>\n",
       "      <td>USC00470307</td>\n",
       "      <td>-10.43</td>\n",
       "      <td>43.33</td>\n",
       "      <td>-89.37</td>\n",
       "      <td>317.00</td>\n",
       "      <td>ARLINGTON</td>\n",
       "      <td>US</td>\n",
       "      <td>United States</td>\n",
       "    </tr>\n",
       "  </tbody>\n",
       "</table>\n",
       "</div>"
      ],
      "text/plain": [
       "  measuredate    stationid  avgtemp  latitude  longitude  elevation           station countryid  \\\n",
       "0  2000-04-01  USS0010K01S     5.27     39.90    -110.75   2,773.70     INDIAN_CANYON        US   \n",
       "1  1940-05-01  CI000085406    18.04    -18.35     -70.33      58.00             ARICA        CI   \n",
       "2  2013-12-01  USC00036376     6.22     34.37     -91.12      61.00     SAINT_CHARLES        US   \n",
       "3  1963-02-01  ASN00024002    22.93    -34.28     140.60      65.50  BERRI_IRRIGATION        AS   \n",
       "5  1991-04-01  USW00024151     5.59     42.15    -112.29   1,362.50        MALAD_CITY        US   \n",
       "6  1993-12-01  RSM00022641   -10.17     63.90      38.12      13.00             ONEGA        RS   \n",
       "7  1943-01-01  USC00470307   -10.43     43.33     -89.37     317.00         ARLINGTON        US   \n",
       "\n",
       "         country  \n",
       "0  United States  \n",
       "1          Chile  \n",
       "2  United States  \n",
       "3      Australia  \n",
       "5  United States  \n",
       "6         Russia  \n",
       "7  United States  "
      ]
     },
     "execution_count": 15,
     "metadata": {},
     "output_type": "execute_result"
    }
   ],
   "source": [
    "landtemps.head(7)"
   ]
  },
  {
   "cell_type": "code",
   "execution_count": 4,
   "id": "e1948e98",
   "metadata": {},
   "outputs": [
    {
     "data": {
      "text/plain": [
       "month_year    datetime64[ns]\n",
       "stationid             object\n",
       "avgtemp              float64\n",
       "latitude             float64\n",
       "longitude            float64\n",
       "elevation            float64\n",
       "station               object\n",
       "countryid             object\n",
       "country               object\n",
       "dtype: object"
      ]
     },
     "execution_count": 4,
     "metadata": {},
     "output_type": "execute_result"
    }
   ],
   "source": [
    "landtemps.dtypes"
   ]
  },
  {
   "cell_type": "code",
   "execution_count": 5,
   "id": "c194a845",
   "metadata": {},
   "outputs": [
    {
     "data": {
      "text/plain": [
       "(100000, 9)"
      ]
     },
     "execution_count": 5,
     "metadata": {},
     "output_type": "execute_result"
    }
   ],
   "source": [
    "landtemps.shape"
   ]
  },
  {
   "cell_type": "code",
   "execution_count": 6,
   "id": "030eeecb",
   "metadata": {},
   "outputs": [],
   "source": [
    "landtemps.rename(columns={'month_year':'measuredate'}, inplace=True)\n"
   ]
  },
  {
   "cell_type": "markdown",
   "id": "750e6b68",
   "metadata": {},
   "source": [
    "Check data type per each column"
   ]
  },
  {
   "cell_type": "code",
   "execution_count": 7,
   "id": "44dbf9c0",
   "metadata": {},
   "outputs": [
    {
     "data": {
      "text/plain": [
       "measuredate    datetime64[ns]\n",
       "stationid              object\n",
       "avgtemp               float64\n",
       "latitude              float64\n",
       "longitude             float64\n",
       "elevation             float64\n",
       "station                object\n",
       "countryid              object\n",
       "country                object\n",
       "dtype: object"
      ]
     },
     "execution_count": 7,
     "metadata": {},
     "output_type": "execute_result"
    }
   ],
   "source": [
    "landtemps.dtypes"
   ]
  },
  {
   "cell_type": "code",
   "execution_count": 8,
   "id": "86806584",
   "metadata": {},
   "outputs": [
    {
     "data": {
      "text/plain": [
       "count   85,554.00\n",
       "mean        10.92\n",
       "std         11.52\n",
       "min        -70.70\n",
       "25%          3.46\n",
       "50%         12.22\n",
       "75%         19.57\n",
       "max         39.95\n",
       "Name: avgtemp, dtype: float64"
      ]
     },
     "execution_count": 8,
     "metadata": {},
     "output_type": "execute_result"
    }
   ],
   "source": [
    "landtemps.avgtemp.describe()"
   ]
  },
  {
   "cell_type": "markdown",
   "id": "3b2c90ea",
   "metadata": {},
   "source": [
    "Find out the number of data missing"
   ]
  },
  {
   "cell_type": "code",
   "execution_count": 9,
   "id": "053a1412",
   "metadata": {},
   "outputs": [
    {
     "data": {
      "text/plain": [
       "measuredate        0\n",
       "stationid          0\n",
       "avgtemp        14446\n",
       "latitude           0\n",
       "longitude          0\n",
       "elevation          0\n",
       "station            0\n",
       "countryid          0\n",
       "country            5\n",
       "dtype: int64"
      ]
     },
     "execution_count": 9,
     "metadata": {},
     "output_type": "execute_result"
    }
   ],
   "source": [
    "landtemps.isnull().sum()"
   ]
  },
  {
   "cell_type": "code",
   "execution_count": 10,
   "id": "dc65df23",
   "metadata": {},
   "outputs": [
    {
     "data": {
      "text/plain": [
       "count             99995\n",
       "unique              236\n",
       "top       United States\n",
       "freq              47159\n",
       "Name: country, dtype: object"
      ]
     },
     "execution_count": 10,
     "metadata": {},
     "output_type": "execute_result"
    }
   ],
   "source": [
    "landtemps.country.describe()"
   ]
  },
  {
   "cell_type": "code",
   "execution_count": 11,
   "id": "e64fb37a",
   "metadata": {},
   "outputs": [
    {
     "data": {
      "text/plain": [
       "(85554, 9)"
      ]
     },
     "execution_count": 11,
     "metadata": {},
     "output_type": "execute_result"
    }
   ],
   "source": [
    "landtemps.dropna(subset=['avgtemp'], inplace=True)\n",
    "landtemps.shape"
   ]
  },
  {
   "cell_type": "code",
   "execution_count": 12,
   "id": "d165d442",
   "metadata": {},
   "outputs": [
    {
     "data": {
      "text/plain": [
       "measuredate    0\n",
       "stationid      0\n",
       "avgtemp        0\n",
       "latitude       0\n",
       "longitude      0\n",
       "elevation      0\n",
       "station        0\n",
       "countryid      0\n",
       "country        2\n",
       "dtype: int64"
      ]
     },
     "execution_count": 12,
     "metadata": {},
     "output_type": "execute_result"
    }
   ],
   "source": [
    "landtemps.isnull().sum()"
   ]
  },
  {
   "cell_type": "code",
   "execution_count": 13,
   "id": "a6388bbe",
   "metadata": {},
   "outputs": [
    {
     "name": "stdout",
     "output_type": "stream",
     "text": [
      "<class 'pandas.core.frame.DataFrame'>\n",
      "Index: 85554 entries, 0 to 99999\n",
      "Data columns (total 9 columns):\n",
      " #   Column       Non-Null Count  Dtype         \n",
      "---  ------       --------------  -----         \n",
      " 0   measuredate  85554 non-null  datetime64[ns]\n",
      " 1   stationid    85554 non-null  object        \n",
      " 2   avgtemp      85554 non-null  float64       \n",
      " 3   latitude     85554 non-null  float64       \n",
      " 4   longitude    85554 non-null  float64       \n",
      " 5   elevation    85554 non-null  float64       \n",
      " 6   station      85554 non-null  object        \n",
      " 7   countryid    85554 non-null  object        \n",
      " 8   country      85552 non-null  object        \n",
      "dtypes: datetime64[ns](1), float64(4), object(4)\n",
      "memory usage: 6.5+ MB\n"
     ]
    }
   ],
   "source": [
    "landtemps.info()"
   ]
  },
  {
   "cell_type": "code",
   "execution_count": 18,
   "id": "1a1e5516",
   "metadata": {},
   "outputs": [],
   "source": [
    "zip_landtemps = pd.read_csv('data/landtemps.zip',\n",
    "    compression='zip', names=['stationid', 'year',\n",
    "    'month', 'avgtemp', 'latitude', 'longtitude',\n",
    "    'elevation', 'station', 'countryid', 'country'],\n",
    "    skiprows=1,\n",
    "    low_memory=False)\n"
   ]
  },
  {
   "cell_type": "code",
   "execution_count": 23,
   "id": "30298375",
   "metadata": {},
   "outputs": [
    {
     "data": {
      "text/plain": [
       "stationid      object\n",
       "year            int64\n",
       "month           int64\n",
       "avgtemp       float64\n",
       "latitude      float64\n",
       "longtitude    float64\n",
       "elevation     float64\n",
       "station        object\n",
       "countryid      object\n",
       "country        object\n",
       "dtype: object"
      ]
     },
     "execution_count": 23,
     "metadata": {},
     "output_type": "execute_result"
    }
   ],
   "source": [
    "zip_landtemps.dtypes"
   ]
  },
  {
   "cell_type": "markdown",
   "id": "31225868",
   "metadata": {},
   "source": [
    "Fix warning \"FutureWarning: Support for nested sequences for 'parse_dates' in pd.read_csv is deprecated. Combine the desired columns with pd.to_datetime after parsing instead.\" when parse datetime columns"
   ]
  },
  {
   "cell_type": "code",
   "execution_count": 26,
   "id": "454a2fe9",
   "metadata": {},
   "outputs": [],
   "source": [
    "zip_landtemps['measuredate'] = pd.to_datetime(zip_landtemps[['year', 'month']].assign(day=1))\n",
    "zip_landtemps = zip_landtemps.drop(['month','year'], axis=1)"
   ]
  },
  {
   "cell_type": "code",
   "execution_count": 27,
   "id": "9450eed7",
   "metadata": {},
   "outputs": [
    {
     "data": {
      "text/plain": [
       "stationid              object\n",
       "avgtemp               float64\n",
       "latitude              float64\n",
       "longtitude            float64\n",
       "elevation             float64\n",
       "station                object\n",
       "countryid              object\n",
       "country                object\n",
       "measuredate    datetime64[ns]\n",
       "dtype: object"
      ]
     },
     "execution_count": 27,
     "metadata": {},
     "output_type": "execute_result"
    }
   ],
   "source": [
    "zip_landtemps.dtypes"
   ]
  },
  {
   "cell_type": "code",
   "execution_count": 29,
   "id": "d38e142d",
   "metadata": {},
   "outputs": [
    {
     "data": {
      "text/plain": [
       "(16904868, 9)"
      ]
     },
     "execution_count": 29,
     "metadata": {},
     "output_type": "execute_result"
    }
   ],
   "source": [
    "zip_landtemps.shape"
   ]
  },
  {
   "cell_type": "code",
   "execution_count": 28,
   "id": "99ef7a4b",
   "metadata": {},
   "outputs": [
    {
     "data": {
      "text/plain": [
       "stationid            0\n",
       "avgtemp        2443321\n",
       "latitude             0\n",
       "longtitude           0\n",
       "elevation            0\n",
       "station              0\n",
       "countryid            0\n",
       "country            408\n",
       "measuredate          0\n",
       "dtype: int64"
      ]
     },
     "execution_count": 28,
     "metadata": {},
     "output_type": "execute_result"
    }
   ],
   "source": [
    "zip_landtemps.isnull().sum()"
   ]
  },
  {
   "cell_type": "markdown",
   "id": "276de69e",
   "metadata": {},
   "source": [
    "Drop null and n/a values via choosing column name"
   ]
  },
  {
   "cell_type": "code",
   "execution_count": null,
   "id": "95985715",
   "metadata": {},
   "outputs": [],
   "source": [
    "zip_landtemps.dropna(subset=['avgtemp'], inplace=True)\n"
   ]
  },
  {
   "cell_type": "code",
   "execution_count": 36,
   "id": "4f4521a0",
   "metadata": {},
   "outputs": [],
   "source": [
    "zip_landtemps.dropna(subset=['country'], inplace=True)\n"
   ]
  },
  {
   "cell_type": "code",
   "execution_count": 37,
   "id": "54e0ecd9",
   "metadata": {},
   "outputs": [
    {
     "data": {
      "text/plain": [
       "(14461331, 9)"
      ]
     },
     "execution_count": 37,
     "metadata": {},
     "output_type": "execute_result"
    }
   ],
   "source": [
    "zip_landtemps.shape"
   ]
  },
  {
   "cell_type": "code",
   "execution_count": 38,
   "id": "3d283c0c",
   "metadata": {},
   "outputs": [
    {
     "data": {
      "text/plain": [
       "stationid      0\n",
       "avgtemp        0\n",
       "latitude       0\n",
       "longtitude     0\n",
       "elevation      0\n",
       "station        0\n",
       "countryid      0\n",
       "country        0\n",
       "measuredate    0\n",
       "dtype: int64"
      ]
     },
     "execution_count": 38,
     "metadata": {},
     "output_type": "execute_result"
    }
   ],
   "source": [
    "zip_landtemps.isnull().sum()"
   ]
  }
 ],
 "metadata": {
  "kernelspec": {
   "display_name": ".venv",
   "language": "python",
   "name": "python3"
  },
  "language_info": {
   "codemirror_mode": {
    "name": "ipython",
    "version": 3
   },
   "file_extension": ".py",
   "mimetype": "text/x-python",
   "name": "python",
   "nbconvert_exporter": "python",
   "pygments_lexer": "ipython3",
   "version": "3.12.3"
  }
 },
 "nbformat": 4,
 "nbformat_minor": 5
}
