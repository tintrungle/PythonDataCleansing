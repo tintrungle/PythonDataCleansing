{
 "cells": [
  {
   "cell_type": "code",
   "execution_count": 4,
   "id": "4708022a",
   "metadata": {},
   "outputs": [],
   "source": [
    "# !pip install matplotlib statsmodels\n",
    "import pandas as pd\n",
    "import matplotlib.pyplot as plt\n",
    "import statsmodels.api as sm\n"
   ]
  },
  {
   "cell_type": "code",
   "execution_count": 5,
   "id": "bce1fb2b",
   "metadata": {},
   "outputs": [],
   "source": [
    "landtemps = pd.read_csv(\"data/landtemps2023avgs.csv\")\n",
    "covidtotals = pd.read_csv(\"data/covidtotals.csv\", parse_dates=[\"lastdate\"])\n",
    "covidtotals.set_index('iso_code', inplace=True)\n",
    "\n"
   ]
  }
 ],
 "metadata": {
  "kernelspec": {
   "display_name": "mamba_env",
   "language": "python",
   "name": "python3"
  },
  "language_info": {
   "codemirror_mode": {
    "name": "ipython",
    "version": 3
   },
   "file_extension": ".py",
   "mimetype": "text/x-python",
   "name": "python",
   "nbconvert_exporter": "python",
   "pygments_lexer": "ipython3",
   "version": "3.9.21"
  }
 },
 "nbformat": 4,
 "nbformat_minor": 5
}
