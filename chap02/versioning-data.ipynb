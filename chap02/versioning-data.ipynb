{
 "cells": [
  {
   "cell_type": "code",
   "execution_count": 16,
   "metadata": {},
   "outputs": [
    {
     "name": "stdout",
     "output_type": "stream",
     "text": [
      "0.25.2\n"
     ]
    }
   ],
   "source": [
    "import pandas as pd\n",
    "import deltalake\n",
    "from deltalake.writer import write_deltalake\n",
    "from deltalake import DeltaTable\n",
    "import os\n",
    "os.makedirs('data/temps_lake', exist_ok=True)\n",
    "print(deltalake.__version__)"
   ]
  },
  {
   "cell_type": "code",
   "execution_count": 7,
   "metadata": {},
   "outputs": [
    {
     "data": {
      "text/plain": [
       "(100000, 9)"
      ]
     },
     "execution_count": 7,
     "metadata": {},
     "output_type": "execute_result"
    }
   ],
   "source": [
    "# First, read the CSV without date parsing\n",
    "landtemps = pd.read_csv('data/landtempssample.csv',\n",
    "                      names=['stationid', 'year', 'month', 'avgtemp', 'latitude',\n",
    "                             'longitude', 'elevation', 'station', 'countryid', 'country'],\n",
    "                      skiprows=1)\n",
    "\n",
    "# Then create the datetime column after reading\n",
    "landtemps['month_year'] = pd.to_datetime(landtemps[['month', 'year']].assign(day=1))\n",
    "\n",
    "# Optionally drop the original separate columns if no longer needed\n",
    "landtemps = landtemps.drop(['year', 'month'], axis=1)\n",
    "\n",
    "landtemps.shape\n"
   ]
  },
  {
   "cell_type": "code",
   "execution_count": 8,
   "metadata": {},
   "outputs": [
    {
     "name": "stdout",
     "output_type": "stream",
     "text": [
      "<class 'pandas.core.frame.DataFrame'>\n",
      "RangeIndex: 100000 entries, 0 to 99999\n",
      "Data columns (total 9 columns):\n",
      " #   Column      Non-Null Count   Dtype         \n",
      "---  ------      --------------   -----         \n",
      " 0   stationid   100000 non-null  object        \n",
      " 1   avgtemp     85554 non-null   float64       \n",
      " 2   latitude    100000 non-null  float64       \n",
      " 3   longitude   100000 non-null  float64       \n",
      " 4   elevation   100000 non-null  float64       \n",
      " 5   station     100000 non-null  object        \n",
      " 6   countryid   100000 non-null  object        \n",
      " 7   country     99995 non-null   object        \n",
      " 8   month_year  100000 non-null  datetime64[ns]\n",
      "dtypes: datetime64[ns](1), float64(4), object(4)\n",
      "memory usage: 6.9+ MB\n"
     ]
    }
   ],
   "source": [
    "\n",
    "landtemps.info()\n",
    "\n",
    "\n"
   ]
  },
  {
   "cell_type": "code",
   "execution_count": 19,
   "metadata": {},
   "outputs": [
    {
     "name": "stdout",
     "output_type": "stream",
     "text": [
      "stationid             object\n",
      "avgtemp              float64\n",
      "latitude             float64\n",
      "longitude            float64\n",
      "elevation            float64\n",
      "station               object\n",
      "countryid             object\n",
      "country               object\n",
      "month_year    datetime64[ns]\n",
      "dtype: object\n"
     ]
    }
   ],
   "source": [
    "print(landtemps.dtypes)\n"
   ]
  },
  {
   "cell_type": "code",
   "execution_count": 20,
   "metadata": {},
   "outputs": [],
   "source": [
    "landtemps[\"month_year\"] = landtemps[\"month_year\"].dt.tz_localize(\"UTC\")"
   ]
  },
  {
   "cell_type": "code",
   "execution_count": 22,
   "metadata": {},
   "outputs": [],
   "source": [
    "write_deltalake(\n",
    "    'data/temps_lake',\n",
    "    landtemps,\n",
    ")\n"
   ]
  },
  {
   "cell_type": "code",
   "execution_count": 23,
   "metadata": {},
   "outputs": [
    {
     "data": {
      "text/plain": [
       "deltalake.table.DeltaTable"
      ]
     },
     "execution_count": 23,
     "metadata": {},
     "output_type": "execute_result"
    }
   ],
   "source": [
    "tempsdelta = DeltaTable('data/temps_lake', version=0)\n",
    "type(tempsdelta)\n"
   ]
  },
  {
   "cell_type": "code",
   "execution_count": 25,
   "metadata": {},
   "outputs": [
    {
     "data": {
      "text/plain": [
       "(100000, 9)"
      ]
     },
     "execution_count": 25,
     "metadata": {},
     "output_type": "execute_result"
    }
   ],
   "source": [
    "tempsdfv1 = tempsdelta.to_pandas()\n",
    "tempsdfv1.shape\n"
   ]
  },
  {
   "cell_type": "code",
   "execution_count": 26,
   "metadata": {},
   "outputs": [],
   "source": [
    "write_deltalake('data/temps_lake', landtemps.head(1000),\n",
    "                mode='overwrite')\n"
   ]
  },
  {
   "cell_type": "code",
   "execution_count": 27,
   "metadata": {},
   "outputs": [
    {
     "data": {
      "text/plain": [
       "(1000, 9)"
      ]
     },
     "execution_count": 27,
     "metadata": {},
     "output_type": "execute_result"
    }
   ],
   "source": [
    "tempsdfv2 = DeltaTable('data/temps_lake', version=1).to_pandas()\n",
    "tempsdfv2.shape\n",
    "\n",
    "\n",
    "\n",
    "\n",
    "\n"
   ]
  },
  {
   "cell_type": "code",
   "execution_count": 28,
   "metadata": {},
   "outputs": [
    {
     "data": {
      "text/plain": [
       "(2000, 9)"
      ]
     },
     "execution_count": 28,
     "metadata": {},
     "output_type": "execute_result"
    }
   ],
   "source": [
    "write_deltalake('data/temps_lake', landtemps.head(1000), mode='append')\n",
    "tempsdfv3 = DeltaTable('data/temps_lake', version=2).to_pandas()\n",
    "tempsdfv3.shape\n",
    "\n",
    "\n",
    "\n",
    "\n",
    "\n"
   ]
  },
  {
   "cell_type": "code",
   "execution_count": 29,
   "metadata": {},
   "outputs": [
    {
     "data": {
      "text/plain": [
       "(100000, 9)"
      ]
     },
     "execution_count": 29,
     "metadata": {},
     "output_type": "execute_result"
    }
   ],
   "source": [
    "DeltaTable('data/temps_lake', version=0).to_pandas().shape\n"
   ]
  }
 ],
 "metadata": {
  "kernelspec": {
   "display_name": "base",
   "language": "python",
   "name": "python3"
  },
  "language_info": {
   "codemirror_mode": {
    "name": "ipython",
    "version": 3
   },
   "file_extension": ".py",
   "mimetype": "text/x-python",
   "name": "python",
   "nbconvert_exporter": "python",
   "pygments_lexer": "ipython3",
   "version": "3.12.3"
  }
 },
 "nbformat": 4,
 "nbformat_minor": 2
}
