{
 "cells": [
  {
   "cell_type": "code",
   "execution_count": 13,
   "id": "060aaafe",
   "metadata": {},
   "outputs": [],
   "source": [
    "# !pip install matplotlib\n",
    "# !pip install statsmodels\n",
    "# !pip install scipy\n",
    "# !pip install openpyxl\n",
    "\n",
    "import pandas as pd\n",
    "import numpy as np\n",
    "import matplotlib.pyplot as plt\n",
    "import statsmodels.api as sm\n",
    "import scipy.stats as scistat\n",
    "\n"
   ]
  },
  {
   "cell_type": "code",
   "execution_count": 14,
   "id": "e101860b",
   "metadata": {},
   "outputs": [],
   "source": [
    "covidtotals = pd.read_csv('data/covidtotals.csv')\n",
    "covidtotals.set_index('iso_code', inplace=True)\n",
    "\n",
    "totvars = ['location','total_cases',\n",
    "            'total_deaths','total_cases_pm',\n",
    "            'total_deaths_pm']\n",
    "\n",
    "demovars = ['population','pop_density',\n",
    "            'median_age','gdp_per_capita',\n",
    "            'hosp_beds','hum_dev_ind']\n",
    "\n"
   ]
  },
  {
   "cell_type": "code",
   "execution_count": 15,
   "id": "8286b93c",
   "metadata": {},
   "outputs": [
    {
     "data": {
      "text/html": [
       "<div>\n",
       "<style scoped>\n",
       "    .dataframe tbody tr th:only-of-type {\n",
       "        vertical-align: middle;\n",
       "    }\n",
       "\n",
       "    .dataframe tbody tr th {\n",
       "        vertical-align: top;\n",
       "    }\n",
       "\n",
       "    .dataframe thead th {\n",
       "        text-align: right;\n",
       "    }\n",
       "</style>\n",
       "<table border=\"1\" class=\"dataframe\">\n",
       "  <thead>\n",
       "    <tr style=\"text-align: right;\">\n",
       "      <th></th>\n",
       "      <th>total_cases</th>\n",
       "      <th>total_deaths</th>\n",
       "      <th>total_cases_pm</th>\n",
       "      <th>total_deaths_pm</th>\n",
       "    </tr>\n",
       "  </thead>\n",
       "  <tbody>\n",
       "    <tr>\n",
       "      <th>count</th>\n",
       "      <td>2.310000e+02</td>\n",
       "      <td>2.310000e+02</td>\n",
       "      <td>231.000000</td>\n",
       "      <td>231.000000</td>\n",
       "    </tr>\n",
       "    <tr>\n",
       "      <th>mean</th>\n",
       "      <td>3.351599e+06</td>\n",
       "      <td>3.021420e+04</td>\n",
       "      <td>206177.794623</td>\n",
       "      <td>1261.778390</td>\n",
       "    </tr>\n",
       "    <tr>\n",
       "      <th>std</th>\n",
       "      <td>1.148321e+07</td>\n",
       "      <td>1.047789e+05</td>\n",
       "      <td>203858.096252</td>\n",
       "      <td>1314.981529</td>\n",
       "    </tr>\n",
       "    <tr>\n",
       "      <th>min</th>\n",
       "      <td>4.000000e+00</td>\n",
       "      <td>0.000000e+00</td>\n",
       "      <td>354.487000</td>\n",
       "      <td>0.000000</td>\n",
       "    </tr>\n",
       "    <tr>\n",
       "      <th>25%</th>\n",
       "      <td>2.567150e+04</td>\n",
       "      <td>1.775000e+02</td>\n",
       "      <td>21821.863000</td>\n",
       "      <td>141.177000</td>\n",
       "    </tr>\n",
       "    <tr>\n",
       "      <th>50%</th>\n",
       "      <td>1.914960e+05</td>\n",
       "      <td>1.937000e+03</td>\n",
       "      <td>133946.251000</td>\n",
       "      <td>827.046000</td>\n",
       "    </tr>\n",
       "    <tr>\n",
       "      <th>75%</th>\n",
       "      <td>1.294286e+06</td>\n",
       "      <td>1.415000e+04</td>\n",
       "      <td>345689.831000</td>\n",
       "      <td>1997.513000</td>\n",
       "    </tr>\n",
       "    <tr>\n",
       "      <th>max</th>\n",
       "      <td>1.034368e+08</td>\n",
       "      <td>1.127152e+06</td>\n",
       "      <td>763475.441000</td>\n",
       "      <td>6507.656000</td>\n",
       "    </tr>\n",
       "  </tbody>\n",
       "</table>\n",
       "</div>"
      ],
      "text/plain": [
       "        total_cases  total_deaths  total_cases_pm  total_deaths_pm\n",
       "count  2.310000e+02  2.310000e+02      231.000000       231.000000\n",
       "mean   3.351599e+06  3.021420e+04   206177.794623      1261.778390\n",
       "std    1.148321e+07  1.047789e+05   203858.096252      1314.981529\n",
       "min    4.000000e+00  0.000000e+00      354.487000         0.000000\n",
       "25%    2.567150e+04  1.775000e+02    21821.863000       141.177000\n",
       "50%    1.914960e+05  1.937000e+03   133946.251000       827.046000\n",
       "75%    1.294286e+06  1.415000e+04   345689.831000      1997.513000\n",
       "max    1.034368e+08  1.127152e+06   763475.441000      6507.656000"
      ]
     },
     "execution_count": 15,
     "metadata": {},
     "output_type": "execute_result"
    }
   ],
   "source": [
    "covidtotalsonly = covidtotals.loc[:,totvars]\n",
    "covidtotalsonly.describe()"
   ]
  },
  {
   "cell_type": "code",
   "execution_count": 16,
   "id": "1b08d48a",
   "metadata": {},
   "outputs": [
    {
     "data": {
      "text/html": [
       "<div>\n",
       "<style scoped>\n",
       "    .dataframe tbody tr th:only-of-type {\n",
       "        vertical-align: middle;\n",
       "    }\n",
       "\n",
       "    .dataframe tbody tr th {\n",
       "        vertical-align: top;\n",
       "    }\n",
       "\n",
       "    .dataframe thead th {\n",
       "        text-align: right;\n",
       "    }\n",
       "</style>\n",
       "<table border=\"1\" class=\"dataframe\">\n",
       "  <thead>\n",
       "    <tr style=\"text-align: right;\">\n",
       "      <th></th>\n",
       "      <th>total_cases</th>\n",
       "      <th>total_deaths</th>\n",
       "      <th>total_cases_pm</th>\n",
       "      <th>total_deaths_pm</th>\n",
       "    </tr>\n",
       "  </thead>\n",
       "  <tbody>\n",
       "    <tr>\n",
       "      <th>0.0</th>\n",
       "      <td>4.0</td>\n",
       "      <td>0.0</td>\n",
       "      <td>354.487</td>\n",
       "      <td>0.000</td>\n",
       "    </tr>\n",
       "    <tr>\n",
       "      <th>0.1</th>\n",
       "      <td>8359.0</td>\n",
       "      <td>31.0</td>\n",
       "      <td>3138.575</td>\n",
       "      <td>32.885</td>\n",
       "    </tr>\n",
       "    <tr>\n",
       "      <th>0.2</th>\n",
       "      <td>17181.0</td>\n",
       "      <td>126.0</td>\n",
       "      <td>10885.737</td>\n",
       "      <td>105.298</td>\n",
       "    </tr>\n",
       "    <tr>\n",
       "      <th>0.3</th>\n",
       "      <td>38008.0</td>\n",
       "      <td>294.0</td>\n",
       "      <td>35834.604</td>\n",
       "      <td>210.509</td>\n",
       "    </tr>\n",
       "    <tr>\n",
       "      <th>0.4</th>\n",
       "      <td>74129.0</td>\n",
       "      <td>844.0</td>\n",
       "      <td>86126.235</td>\n",
       "      <td>498.789</td>\n",
       "    </tr>\n",
       "    <tr>\n",
       "      <th>0.5</th>\n",
       "      <td>191496.0</td>\n",
       "      <td>1937.0</td>\n",
       "      <td>133946.251</td>\n",
       "      <td>827.046</td>\n",
       "    </tr>\n",
       "    <tr>\n",
       "      <th>0.6</th>\n",
       "      <td>472755.0</td>\n",
       "      <td>4384.0</td>\n",
       "      <td>220429.369</td>\n",
       "      <td>1251.299</td>\n",
       "    </tr>\n",
       "    <tr>\n",
       "      <th>0.7</th>\n",
       "      <td>1041111.0</td>\n",
       "      <td>9646.0</td>\n",
       "      <td>293737.443</td>\n",
       "      <td>1697.571</td>\n",
       "    </tr>\n",
       "    <tr>\n",
       "      <th>0.8</th>\n",
       "      <td>1877065.0</td>\n",
       "      <td>21218.0</td>\n",
       "      <td>416608.106</td>\n",
       "      <td>2271.676</td>\n",
       "    </tr>\n",
       "    <tr>\n",
       "      <th>0.9</th>\n",
       "      <td>5641992.0</td>\n",
       "      <td>62288.0</td>\n",
       "      <td>512388.401</td>\n",
       "      <td>3155.939</td>\n",
       "    </tr>\n",
       "    <tr>\n",
       "      <th>1.0</th>\n",
       "      <td>103436829.0</td>\n",
       "      <td>1127152.0</td>\n",
       "      <td>763475.441</td>\n",
       "      <td>6507.656</td>\n",
       "    </tr>\n",
       "  </tbody>\n",
       "</table>\n",
       "</div>"
      ],
      "text/plain": [
       "     total_cases  total_deaths  total_cases_pm  total_deaths_pm\n",
       "0.0          4.0           0.0         354.487            0.000\n",
       "0.1       8359.0          31.0        3138.575           32.885\n",
       "0.2      17181.0         126.0       10885.737          105.298\n",
       "0.3      38008.0         294.0       35834.604          210.509\n",
       "0.4      74129.0         844.0       86126.235          498.789\n",
       "0.5     191496.0        1937.0      133946.251          827.046\n",
       "0.6     472755.0        4384.0      220429.369         1251.299\n",
       "0.7    1041111.0        9646.0      293737.443         1697.571\n",
       "0.8    1877065.0       21218.0      416608.106         2271.676\n",
       "0.9    5641992.0       62288.0      512388.401         3155.939\n",
       "1.0  103436829.0     1127152.0      763475.441         6507.656"
      ]
     },
     "execution_count": 16,
     "metadata": {},
     "output_type": "execute_result"
    }
   ],
   "source": [
    "covidtotalsonly.quantile(np.arange(0,1.1,0.1), numeric_only=True)"
   ]
  },
  {
   "cell_type": "code",
   "execution_count": 17,
   "id": "baff6976",
   "metadata": {},
   "outputs": [
    {
     "data": {
      "text/plain": [
       "total_cases        6.307179\n",
       "total_deaths       7.098945\n",
       "total_cases_pm     0.834903\n",
       "total_deaths_pm    1.252925\n",
       "dtype: float64"
      ]
     },
     "execution_count": 17,
     "metadata": {},
     "output_type": "execute_result"
    }
   ],
   "source": [
    "covidtotalsonly.skew(numeric_only=True)"
   ]
  },
  {
   "cell_type": "code",
   "execution_count": 18,
   "id": "ed8440ee",
   "metadata": {},
   "outputs": [
    {
     "data": {
      "text/plain": [
       "total_cases        47.080248\n",
       "total_deaths       61.727944\n",
       "total_cases_pm     -0.428060\n",
       "total_deaths_pm     1.256217\n",
       "dtype: float64"
      ]
     },
     "execution_count": 18,
     "metadata": {},
     "output_type": "execute_result"
    }
   ],
   "source": [
    "covidtotalsonly.kurt(numeric_only=True)"
   ]
  },
  {
   "cell_type": "code",
   "execution_count": 19,
   "id": "da5f65d3",
   "metadata": {},
   "outputs": [
    {
     "name": "stdout",
     "output_type": "stream",
     "text": [
      "Total cases: 0.00000\n",
      "Total deaths: 0.00000\n",
      "Total cases pm: 0.00000\n",
      "Total deaths pm: 0.00000\n"
     ]
    }
   ],
   "source": [
    "def testnorm(var, df):\n",
    "    stat, p = scistat.shapiro(df[var])\n",
    "    return p\n",
    "\n",
    "print('Total cases: %.5f' % testnorm('total_cases', covidtotalsonly))\n",
    "print('Total deaths: %.5f' % testnorm('total_deaths', covidtotalsonly))\n",
    "print('Total cases pm: %.5f' % testnorm('total_cases_pm', covidtotalsonly))\n",
    "print('Total deaths pm: %.5f' % testnorm('total_deaths_pm', covidtotalsonly))\n",
    "\n"
   ]
  },
  {
   "cell_type": "code",
   "execution_count": 20,
   "id": "0a02e359",
   "metadata": {},
   "outputs": [
    {
     "data": {
      "image/png": "[encoded data removed]",
      "text/plain": [
       "<Figure size 640x480 with 1 Axes>"
      ]
     },
     "metadata": {},
     "output_type": "display_data"
    },
    {
     "data": {
      "image/png": "[encoded data removed]",
      "text/plain": [
       "<Figure size 640x480 with 1 Axes>"
      ]
     },
     "metadata": {},
     "output_type": "display_data"
    }
   ],
   "source": [
    "sm.qqplot(covidtotalsonly[['total_cases']].\n",
    "    sort_values(['total_cases']), line='s')\n",
    "plt.title('QQ Plot of Total Cases')\n",
    "sm.qqplot(covidtotalsonly[['total_cases_pm']].\n",
    "    sort_values(['total_cases_pm']), line='s')\n",
    "plt.title('QQ Plot of Total Cases Per Million')\n",
    "plt.show()\n"
   ]
  },
  {
   "cell_type": "code",
   "execution_count": 21,
   "id": "d8b92035",
   "metadata": {},
   "outputs": [
    {
     "name": "stdout",
     "output_type": "stream",
     "text": [
      "-1877250.25 <--> 3197207.75\n"
     ]
    }
   ],
   "source": [
    "thirdq, firstq = covidtotalsonly.total_cases.quantile(0.75), covidtotalsonly.total_cases.quantile(0.25)\n",
    "interquartilerange = 1.5 * (thirdq - firstq)\n",
    "outlierhigh, outlierlow = thirdq + interquartilerange, firstq - interquartilerange\n",
    "print(outlierlow, outlierhigh, sep=' <--> ')"
   ]
  },
  {
   "cell_type": "code",
   "execution_count": 23,
   "id": "9a9a6ffc",
   "metadata": {},
   "outputs": [
    {
     "name": "stderr",
     "output_type": "stream",
     "text": [
      "C:\\Users\\LeTrungTin\\AppData\\Local\\Temp\\ipykernel_12584\\464295835.py:9: FutureWarning: The behavior of DataFrame concatenation with empty or all-NA entries is deprecated. In a future version, this will no longer exclude empty or all-NA columns when determining the result dtypes. To retain the old behavior, exclude the relevant entries before the concat operation.\n",
      "  dfout = pd.concat([dfout, df])\n"
     ]
    },
    {
     "data": {
      "text/plain": [
       "varname\n",
       "total_cases        39\n",
       "total_deaths       33\n",
       "total_deaths_pm     4\n",
       "Name: count, dtype: int64"
      ]
     },
     "execution_count": 23,
     "metadata": {},
     "output_type": "execute_result"
    }
   ],
   "source": [
    "def getoutliers():\n",
    "    dfout = pd.DataFrame(columns=covidtotals.columns, data=None)\n",
    "    for col in covidtotalsonly.columns[1:]:\n",
    "        thirdq, firstq = covidtotalsonly[col].quantile(0.75), covidtotalsonly[col].quantile(0.25)\n",
    "        iqr = 1.5*(thirdq-firstq)\n",
    "        outlierhigh, outlieralow = thirdq+iqr, firstq-iqr\n",
    "        df = covidtotals.loc[(covidtotals[col]>outlierhigh) | (covidtotals[col]<outlieralow)]\n",
    "        df = df.assign(varname = col, threshlow = outlieralow, threshhigh = outlierhigh)\n",
    "        dfout = pd.concat([dfout, df])\n",
    "    return dfout\n",
    "\n",
    "outliers = getoutliers()\n",
    "outliers.varname.value_counts()"
   ]
  },
  {
   "cell_type": "code",
   "execution_count": 24,
   "id": "81f31fcb",
   "metadata": {},
   "outputs": [],
   "source": [
    "outliers.to_excel('views/outliers.xlsx')"
   ]
  },
  {
   "cell_type": "code",
   "execution_count": 27,
   "id": "df42726c",
   "metadata": {},
   "outputs": [
    {
     "data": {
      "text/html": [
       "<div>\n",
       "<style scoped>\n",
       "    .dataframe tbody tr th:only-of-type {\n",
       "        vertical-align: middle;\n",
       "    }\n",
       "\n",
       "    .dataframe tbody tr th {\n",
       "        vertical-align: top;\n",
       "    }\n",
       "\n",
       "    .dataframe thead th {\n",
       "        text-align: right;\n",
       "    }\n",
       "</style>\n",
       "<table border=\"1\" class=\"dataframe\">\n",
       "  <thead>\n",
       "    <tr style=\"text-align: right;\">\n",
       "      <th></th>\n",
       "      <th>location</th>\n",
       "      <th>total_deaths_pm</th>\n",
       "      <th>total_cases_pm</th>\n",
       "      <th>median_age</th>\n",
       "      <th>hum_dev_ind</th>\n",
       "    </tr>\n",
       "  </thead>\n",
       "  <tbody>\n",
       "    <tr>\n",
       "      <th>PER</th>\n",
       "      <td>Peru</td>\n",
       "      <td>6507.656</td>\n",
       "      <td>133238.998</td>\n",
       "      <td>29.1</td>\n",
       "      <td>0.777</td>\n",
       "    </tr>\n",
       "    <tr>\n",
       "      <th>BGR</th>\n",
       "      <td>Bulgaria</td>\n",
       "      <td>5703.518</td>\n",
       "      <td>195767.887</td>\n",
       "      <td>44.7</td>\n",
       "      <td>0.816</td>\n",
       "    </tr>\n",
       "    <tr>\n",
       "      <th>BIH</th>\n",
       "      <td>Bosnia and Herzegovina</td>\n",
       "      <td>5066.290</td>\n",
       "      <td>124806.326</td>\n",
       "      <td>42.5</td>\n",
       "      <td>0.780</td>\n",
       "    </tr>\n",
       "    <tr>\n",
       "      <th>HUN</th>\n",
       "      <td>Hungary</td>\n",
       "      <td>4918.281</td>\n",
       "      <td>223685.161</td>\n",
       "      <td>43.4</td>\n",
       "      <td>0.854</td>\n",
       "    </tr>\n",
       "  </tbody>\n",
       "</table>\n",
       "</div>"
      ],
      "text/plain": [
       "                   location  total_deaths_pm  total_cases_pm  median_age  \\\n",
       "PER                    Peru         6507.656      133238.998        29.1   \n",
       "BGR                Bulgaria         5703.518      195767.887        44.7   \n",
       "BIH  Bosnia and Herzegovina         5066.290      124806.326        42.5   \n",
       "HUN                 Hungary         4918.281      223685.161        43.4   \n",
       "\n",
       "     hum_dev_ind  \n",
       "PER        0.777  \n",
       "BGR        0.816  \n",
       "BIH        0.780  \n",
       "HUN        0.854  "
      ]
     },
     "execution_count": 27,
     "metadata": {},
     "output_type": "execute_result"
    }
   ],
   "source": [
    "outliers.loc[outliers.varname=='total_deaths_pm', ['location', 'total_deaths_pm', 'total_cases_pm', 'median_age', 'hum_dev_ind']].sort_values(['total_deaths_pm'], ascending=False)"
   ]
  },
  {
   "cell_type": "code",
   "execution_count": 28,
   "id": "ea96ead1",
   "metadata": {},
   "outputs": [
    {
     "data": {
      "text/html": [
       "<div>\n",
       "<style scoped>\n",
       "    .dataframe tbody tr th:only-of-type {\n",
       "        vertical-align: middle;\n",
       "    }\n",
       "\n",
       "    .dataframe tbody tr th {\n",
       "        vertical-align: top;\n",
       "    }\n",
       "\n",
       "    .dataframe thead th {\n",
       "        text-align: right;\n",
       "    }\n",
       "</style>\n",
       "<table border=\"1\" class=\"dataframe\">\n",
       "  <thead>\n",
       "    <tr style=\"text-align: right;\">\n",
       "      <th></th>\n",
       "      <th>total_deaths_pm</th>\n",
       "      <th>median_age</th>\n",
       "      <th>hum_dev_ind</th>\n",
       "    </tr>\n",
       "  </thead>\n",
       "  <tbody>\n",
       "    <tr>\n",
       "      <th>0.25</th>\n",
       "      <td>141.177</td>\n",
       "      <td>22.05</td>\n",
       "      <td>0.6015</td>\n",
       "    </tr>\n",
       "    <tr>\n",
       "      <th>0.50</th>\n",
       "      <td>827.046</td>\n",
       "      <td>29.60</td>\n",
       "      <td>0.7400</td>\n",
       "    </tr>\n",
       "    <tr>\n",
       "      <th>0.75</th>\n",
       "      <td>1997.513</td>\n",
       "      <td>38.70</td>\n",
       "      <td>0.8285</td>\n",
       "    </tr>\n",
       "  </tbody>\n",
       "</table>\n",
       "</div>"
      ],
      "text/plain": [
       "      total_deaths_pm  median_age  hum_dev_ind\n",
       "0.25          141.177       22.05       0.6015\n",
       "0.50          827.046       29.60       0.7400\n",
       "0.75         1997.513       38.70       0.8285"
      ]
     },
     "execution_count": 28,
     "metadata": {},
     "output_type": "execute_result"
    }
   ],
   "source": [
    "covidtotals[['total_deaths_pm', 'median_age', 'hum_dev_ind']].quantile([0.25, 0.5, 0.75])"
   ]
  },
  {
   "cell_type": "code",
   "execution_count": 29,
   "id": "b4d4bb77",
   "metadata": {},
   "outputs": [
    {
     "data": {
      "image/png": "[encoded data removed]",
      "text/plain": [
       "<Figure size 640x480 with 1 Axes>"
      ]
     },
     "metadata": {},
     "output_type": "display_data"
    }
   ],
   "source": [
    "plt.hist(covidtotals['total_cases']/1000, bins=7)\n",
    "plt.xlabel('Cases')\n",
    "plt.ylabel('Number of Countries')\n",
    "plt.title('Total COVID-19 Cases (thousands)')\n",
    "plt.show()\n"
   ]
  },
  {
   "cell_type": "code",
   "execution_count": 30,
   "id": "0ba9ca21",
   "metadata": {},
   "outputs": [
    {
     "data": {
      "image/png": "[encoded data removed]",
      "text/plain": [
       "<Figure size 640x480 with 1 Axes>"
      ]
     },
     "metadata": {},
     "output_type": "display_data"
    }
   ],
   "source": [
    "covidlogs = covidtotalsonly.copy()\n",
    "for col in covidlogs.columns[1:]:\n",
    "    covidlogs[col] = np.log1p(covidlogs[col])\n",
    "plt.hist(covidlogs['total_cases'], bins=7)\n",
    "plt.xlabel('Cases')\n",
    "plt.ylabel('Number of Countries')\n",
    "plt.title('Total COVID-19 Cases')\n",
    "plt.show()"
   ]
  }
 ],
 "metadata": {
  "kernelspec": {
   "display_name": "base",
   "language": "python",
   "name": "python3"
  },
  "language_info": {
   "codemirror_mode": {
    "name": "ipython",
    "version": 3
   },
   "file_extension": ".py",
   "mimetype": "text/x-python",
   "name": "python",
   "nbconvert_exporter": "python",
   "pygments_lexer": "ipython3",
   "version": "3.12.3"
  }
 },
 "nbformat": 4,
 "nbformat_minor": 5
}
