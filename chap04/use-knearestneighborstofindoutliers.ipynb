{
 "cells": [
  {
   "cell_type": "code",
   "execution_count": 3,
   "id": "ca3357d0",
   "metadata": {},
   "outputs": [
    {
     "name": "stdout",
     "output_type": "stream",
     "text": [
      "Requirement already satisfied: pyod in c:\\users\\letrungtin\\anaconda3\\lib\\site-packages (2.0.5)Note: you may need to restart the kernel to use updated packages.\n",
      "\n",
      "Requirement already satisfied: scikit-learn in c:\\users\\letrungtin\\anaconda3\\lib\\site-packages (1.5.1)\n",
      "Requirement already satisfied: joblib in c:\\users\\letrungtin\\anaconda3\\lib\\site-packages (from pyod) (1.4.2)\n",
      "Requirement already satisfied: matplotlib in c:\\users\\letrungtin\\anaconda3\\lib\\site-packages (from pyod) (3.9.2)\n",
      "Requirement already satisfied: numpy>=1.19 in c:\\users\\letrungtin\\anaconda3\\lib\\site-packages (from pyod) (1.26.4)\n",
      "Requirement already satisfied: numba>=0.51 in c:\\users\\letrungtin\\anaconda3\\lib\\site-packages (from pyod) (0.60.0)\n",
      "Requirement already satisfied: scipy>=1.5.1 in c:\\users\\letrungtin\\anaconda3\\lib\\site-packages (from pyod) (1.13.1)\n",
      "Requirement already satisfied: threadpoolctl>=3.1.0 in c:\\users\\letrungtin\\anaconda3\\lib\\site-packages (from scikit-learn) (3.5.0)\n",
      "Requirement already satisfied: llvmlite<0.44,>=0.43.0dev0 in c:\\users\\letrungtin\\anaconda3\\lib\\site-packages (from numba>=0.51->pyod) (0.43.0)\n",
      "Requirement already satisfied: contourpy>=1.0.1 in c:\\users\\letrungtin\\anaconda3\\lib\\site-packages (from matplotlib->pyod) (1.2.0)\n",
      "Requirement already satisfied: cycler>=0.10 in c:\\users\\letrungtin\\anaconda3\\lib\\site-packages (from matplotlib->pyod) (0.11.0)\n",
      "Requirement already satisfied: fonttools>=4.22.0 in c:\\users\\letrungtin\\anaconda3\\lib\\site-packages (from matplotlib->pyod) (4.51.0)\n",
      "Requirement already satisfied: kiwisolver>=1.3.1 in c:\\users\\letrungtin\\anaconda3\\lib\\site-packages (from matplotlib->pyod) (1.4.4)\n",
      "Requirement already satisfied: packaging>=20.0 in c:\\users\\letrungtin\\anaconda3\\lib\\site-packages (from matplotlib->pyod) (24.1)\n",
      "Requirement already satisfied: pillow>=8 in c:\\users\\letrungtin\\anaconda3\\lib\\site-packages (from matplotlib->pyod) (10.4.0)\n",
      "Requirement already satisfied: pyparsing>=2.3.1 in c:\\users\\letrungtin\\anaconda3\\lib\\site-packages (from matplotlib->pyod) (3.1.2)\n",
      "Requirement already satisfied: python-dateutil>=2.7 in c:\\users\\letrungtin\\anaconda3\\lib\\site-packages (from matplotlib->pyod) (2.9.0.post0)\n",
      "Requirement already satisfied: six>=1.5 in c:\\users\\letrungtin\\anaconda3\\lib\\site-packages (from python-dateutil>=2.7->matplotlib->pyod) (1.16.0)\n"
     ]
    }
   ],
   "source": [
    "%pip install pyod scikit-learn\n",
    "\n",
    "import pandas as pd\n",
    "from pyod.models.knn import KNN\n",
    "from sklearn.preprocessing import StandardScaler\n",
    "\n"
   ]
  },
  {
   "cell_type": "code",
   "execution_count": 4,
   "id": "b6b4079c",
   "metadata": {},
   "outputs": [],
   "source": [
    "covidtotals = pd.read_csv('data/covidtotals.csv')\n",
    "covidtotals.set_index('iso_code', inplace=True)"
   ]
  },
  {
   "cell_type": "code",
   "execution_count": 5,
   "id": "0d14a2ec",
   "metadata": {},
   "outputs": [],
   "source": [
    "standardizer = StandardScaler()\n",
    "analysisvars = ['location', 'total_cases_pm', 'total_deaths_pm', 'pop_density', 'median_age', 'gdp_per_capita']\n",
    "covidanalysis = covidtotals.loc[:, analysisvars].dropna()\n",
    "covidanalysisstand = standardizer.fit_transform(covidanalysis.iloc[:, 1:])"
   ]
  },
  {
   "cell_type": "code",
   "execution_count": 6,
   "id": "2b3040f5",
   "metadata": {},
   "outputs": [
    {
     "data": {
      "text/plain": [
       "KNN(algorithm='auto', contamination=0.1, leaf_size=30, method='largest',\n",
       "  metric='minkowski', metric_params=None, n_jobs=1, n_neighbors=5, p=2,\n",
       "  radius=1.0)"
      ]
     },
     "execution_count": 6,
     "metadata": {},
     "output_type": "execute_result"
    }
   ],
   "source": [
    "clf_name = 'KNN'\n",
    "clf = KNN(contamination=0.1)\n",
    "clf.fit(covidanalysisstand)"
   ]
  },
  {
   "cell_type": "code",
   "execution_count": 8,
   "id": "83421c44",
   "metadata": {},
   "outputs": [],
   "source": [
    "y_pred = clf.labels_\n",
    "y_scores = clf.decision_scores_\n"
   ]
  },
  {
   "cell_type": "code",
   "execution_count": 9,
   "id": "d5b6818a",
   "metadata": {},
   "outputs": [
    {
     "data": {
      "text/html": [
       "<div>\n",
       "<style scoped>\n",
       "    .dataframe tbody tr th:only-of-type {\n",
       "        vertical-align: middle;\n",
       "    }\n",
       "\n",
       "    .dataframe tbody tr th {\n",
       "        vertical-align: top;\n",
       "    }\n",
       "\n",
       "    .dataframe thead th {\n",
       "        text-align: right;\n",
       "    }\n",
       "</style>\n",
       "<table border=\"1\" class=\"dataframe\">\n",
       "  <thead>\n",
       "    <tr style=\"text-align: right;\">\n",
       "      <th></th>\n",
       "      <th>outliers</th>\n",
       "      <th>scores</th>\n",
       "    </tr>\n",
       "    <tr>\n",
       "      <th>iso_code</th>\n",
       "      <th></th>\n",
       "      <th></th>\n",
       "    </tr>\n",
       "  </thead>\n",
       "  <tbody>\n",
       "    <tr>\n",
       "      <th>BHR</th>\n",
       "      <td>1</td>\n",
       "      <td>2.694270</td>\n",
       "    </tr>\n",
       "    <tr>\n",
       "      <th>BRA</th>\n",
       "      <td>0</td>\n",
       "      <td>0.752140</td>\n",
       "    </tr>\n",
       "    <tr>\n",
       "      <th>ZWE</th>\n",
       "      <td>0</td>\n",
       "      <td>0.210114</td>\n",
       "    </tr>\n",
       "    <tr>\n",
       "      <th>BGR</th>\n",
       "      <td>1</td>\n",
       "      <td>1.619251</td>\n",
       "    </tr>\n",
       "    <tr>\n",
       "      <th>CHN</th>\n",
       "      <td>0</td>\n",
       "      <td>0.935879</td>\n",
       "    </tr>\n",
       "    <tr>\n",
       "      <th>BGD</th>\n",
       "      <td>1</td>\n",
       "      <td>1.520910</td>\n",
       "    </tr>\n",
       "    <tr>\n",
       "      <th>GRD</th>\n",
       "      <td>0</td>\n",
       "      <td>0.681296</td>\n",
       "    </tr>\n",
       "    <tr>\n",
       "      <th>UZB</th>\n",
       "      <td>0</td>\n",
       "      <td>0.369320</td>\n",
       "    </tr>\n",
       "    <tr>\n",
       "      <th>MMR</th>\n",
       "      <td>0</td>\n",
       "      <td>0.370487</td>\n",
       "    </tr>\n",
       "    <tr>\n",
       "      <th>ECU</th>\n",
       "      <td>0</td>\n",
       "      <td>0.584605</td>\n",
       "    </tr>\n",
       "  </tbody>\n",
       "</table>\n",
       "</div>"
      ],
      "text/plain": [
       "          outliers    scores\n",
       "iso_code                    \n",
       "BHR              1  2.694270\n",
       "BRA              0  0.752140\n",
       "ZWE              0  0.210114\n",
       "BGR              1  1.619251\n",
       "CHN              0  0.935879\n",
       "BGD              1  1.520910\n",
       "GRD              0  0.681296\n",
       "UZB              0  0.369320\n",
       "MMR              0  0.370487\n",
       "ECU              0  0.584605"
      ]
     },
     "execution_count": 9,
     "metadata": {},
     "output_type": "execute_result"
    }
   ],
   "source": [
    "pred = pd.DataFrame(zip(y_pred, y_scores), columns=['outliers', 'scores'], index=covidanalysis.index)\n",
    "\n",
    "pred.sample(10, random_state=2)\n"
   ]
  },
  {
   "cell_type": "code",
   "execution_count": 10,
   "id": "3eae4deb",
   "metadata": {},
   "outputs": [
    {
     "data": {
      "text/plain": [
       "outliers\n",
       "0    162\n",
       "1     18\n",
       "Name: count, dtype: int64"
      ]
     },
     "execution_count": 10,
     "metadata": {},
     "output_type": "execute_result"
    }
   ],
   "source": [
    "pred.outliers.value_counts()"
   ]
  },
  {
   "cell_type": "code",
   "execution_count": 11,
   "id": "0eec03bc",
   "metadata": {},
   "outputs": [
    {
     "data": {
      "text/html": [
       "<div>\n",
       "<style scoped>\n",
       "    .dataframe tbody tr th:only-of-type {\n",
       "        vertical-align: middle;\n",
       "    }\n",
       "\n",
       "    .dataframe tbody tr th {\n",
       "        vertical-align: top;\n",
       "    }\n",
       "\n",
       "    .dataframe thead tr th {\n",
       "        text-align: left;\n",
       "    }\n",
       "\n",
       "    .dataframe thead tr:last-of-type th {\n",
       "        text-align: right;\n",
       "    }\n",
       "</style>\n",
       "<table border=\"1\" class=\"dataframe\">\n",
       "  <thead>\n",
       "    <tr>\n",
       "      <th></th>\n",
       "      <th colspan=\"3\" halign=\"left\">scores</th>\n",
       "    </tr>\n",
       "    <tr>\n",
       "      <th></th>\n",
       "      <th>min</th>\n",
       "      <th>median</th>\n",
       "      <th>max</th>\n",
       "    </tr>\n",
       "    <tr>\n",
       "      <th>outliers</th>\n",
       "      <th></th>\n",
       "      <th></th>\n",
       "      <th></th>\n",
       "    </tr>\n",
       "  </thead>\n",
       "  <tbody>\n",
       "    <tr>\n",
       "      <th>0</th>\n",
       "      <td>0.078210</td>\n",
       "      <td>0.600947</td>\n",
       "      <td>1.397616</td>\n",
       "    </tr>\n",
       "    <tr>\n",
       "      <th>1</th>\n",
       "      <td>1.421653</td>\n",
       "      <td>1.653276</td>\n",
       "      <td>11.940163</td>\n",
       "    </tr>\n",
       "  </tbody>\n",
       "</table>\n",
       "</div>"
      ],
      "text/plain": [
       "            scores                     \n",
       "               min    median        max\n",
       "outliers                               \n",
       "0         0.078210  0.600947   1.397616\n",
       "1         1.421653  1.653276  11.940163"
      ]
     },
     "execution_count": 11,
     "metadata": {},
     "output_type": "execute_result"
    }
   ],
   "source": [
    "pred.groupby(['outliers'])[['scores']].agg(['min', 'median', 'max'])"
   ]
  },
  {
   "cell_type": "code",
   "execution_count": 12,
   "id": "79e4cab0",
   "metadata": {},
   "outputs": [
    {
     "data": {
      "text/html": [
       "<div>\n",
       "<style scoped>\n",
       "    .dataframe tbody tr th:only-of-type {\n",
       "        vertical-align: middle;\n",
       "    }\n",
       "\n",
       "    .dataframe tbody tr th {\n",
       "        vertical-align: top;\n",
       "    }\n",
       "\n",
       "    .dataframe thead th {\n",
       "        text-align: right;\n",
       "    }\n",
       "</style>\n",
       "<table border=\"1\" class=\"dataframe\">\n",
       "  <thead>\n",
       "    <tr style=\"text-align: right;\">\n",
       "      <th></th>\n",
       "      <th>location</th>\n",
       "      <th>total_cases_pm</th>\n",
       "      <th>total_deaths_pm</th>\n",
       "      <th>scores</th>\n",
       "    </tr>\n",
       "    <tr>\n",
       "      <th>iso_code</th>\n",
       "      <th></th>\n",
       "      <th></th>\n",
       "      <th></th>\n",
       "      <th></th>\n",
       "    </tr>\n",
       "  </thead>\n",
       "  <tbody>\n",
       "    <tr>\n",
       "      <th>SGP</th>\n",
       "      <td>Singapore</td>\n",
       "      <td>531183.841</td>\n",
       "      <td>346.637</td>\n",
       "      <td>11.940163</td>\n",
       "    </tr>\n",
       "    <tr>\n",
       "      <th>QAT</th>\n",
       "      <td>Qatar</td>\n",
       "      <td>190908.716</td>\n",
       "      <td>256.017</td>\n",
       "      <td>3.037338</td>\n",
       "    </tr>\n",
       "    <tr>\n",
       "      <th>BHR</th>\n",
       "      <td>Bahrain</td>\n",
       "      <td>473167.024</td>\n",
       "      <td>1043.310</td>\n",
       "      <td>2.694270</td>\n",
       "    </tr>\n",
       "    <tr>\n",
       "      <th>LUX</th>\n",
       "      <td>Luxembourg</td>\n",
       "      <td>603439.463</td>\n",
       "      <td>1544.161</td>\n",
       "      <td>2.485225</td>\n",
       "    </tr>\n",
       "    <tr>\n",
       "      <th>PER</th>\n",
       "      <td>Peru</td>\n",
       "      <td>133238.998</td>\n",
       "      <td>6507.656</td>\n",
       "      <td>2.265343</td>\n",
       "    </tr>\n",
       "    <tr>\n",
       "      <th>BRN</th>\n",
       "      <td>Brunei</td>\n",
       "      <td>763475.441</td>\n",
       "      <td>396.435</td>\n",
       "      <td>2.259517</td>\n",
       "    </tr>\n",
       "    <tr>\n",
       "      <th>MDV</th>\n",
       "      <td>Maldives</td>\n",
       "      <td>356423.660</td>\n",
       "      <td>603.286</td>\n",
       "      <td>1.984898</td>\n",
       "    </tr>\n",
       "    <tr>\n",
       "      <th>MLT</th>\n",
       "      <td>Malta</td>\n",
       "      <td>227422.824</td>\n",
       "      <td>1687.628</td>\n",
       "      <td>1.961672</td>\n",
       "    </tr>\n",
       "    <tr>\n",
       "      <th>ARE</th>\n",
       "      <td>United Arab Emirates</td>\n",
       "      <td>113019.214</td>\n",
       "      <td>248.805</td>\n",
       "      <td>1.687302</td>\n",
       "    </tr>\n",
       "    <tr>\n",
       "      <th>BGR</th>\n",
       "      <td>Bulgaria</td>\n",
       "      <td>195767.887</td>\n",
       "      <td>5703.518</td>\n",
       "      <td>1.619251</td>\n",
       "    </tr>\n",
       "  </tbody>\n",
       "</table>\n",
       "</div>"
      ],
      "text/plain": [
       "                      location  total_cases_pm  total_deaths_pm     scores\n",
       "iso_code                                                                  \n",
       "SGP                  Singapore      531183.841          346.637  11.940163\n",
       "QAT                      Qatar      190908.716          256.017   3.037338\n",
       "BHR                    Bahrain      473167.024         1043.310   2.694270\n",
       "LUX                 Luxembourg      603439.463         1544.161   2.485225\n",
       "PER                       Peru      133238.998         6507.656   2.265343\n",
       "BRN                     Brunei      763475.441          396.435   2.259517\n",
       "MDV                   Maldives      356423.660          603.286   1.984898\n",
       "MLT                      Malta      227422.824         1687.628   1.961672\n",
       "ARE       United Arab Emirates      113019.214          248.805   1.687302\n",
       "BGR                   Bulgaria      195767.887         5703.518   1.619251"
      ]
     },
     "execution_count": 12,
     "metadata": {},
     "output_type": "execute_result"
    }
   ],
   "source": [
    "covidanalysis.join(pred).loc[pred.outliers == 1, ['location', 'total_cases_pm', 'total_deaths_pm','scores']].sort_values(by='scores', ascending=False).head(10)"
   ]
  }
 ],
 "metadata": {
  "kernelspec": {
   "display_name": "base",
   "language": "python",
   "name": "python3"
  },
  "language_info": {
   "codemirror_mode": {
    "name": "ipython",
    "version": 3
   },
   "file_extension": ".py",
   "mimetype": "text/x-python",
   "name": "python",
   "nbconvert_exporter": "python",
   "pygments_lexer": "ipython3",
   "version": "3.12.3"
  }
 },
 "nbformat": 4,
 "nbformat_minor": 5
}
